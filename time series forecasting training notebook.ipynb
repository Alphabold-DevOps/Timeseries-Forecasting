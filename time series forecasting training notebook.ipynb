{
 "cells": [
  {
   "cell_type": "markdown",
   "id": "a6a9a6a9",
   "metadata": {},
   "source": [
    "# Importing Libraries "
   ]
  },
  {
   "cell_type": "code",
   "execution_count": 1,
   "id": "cea9aeff",
   "metadata": {},
   "outputs": [],
   "source": [
    "# Adding Azure Libraries \n",
    "from azureml.core import Workspace, Experiment, Dataset, Datastore\n",
    "from azureml.core.compute import ComputeTarget\n",
    "from azureml.train.automl import AutoMLConfig\n",
    "from azureml.train.automl.run import AutoMLRun\n",
    "from azureml.widgets import RunDetails\n",
    "from azureml.opendatasets import OjSalesSimulated\n",
    "from azureml.automl.core.forecasting_parameters import ForecastingParameters"
   ]
  },
  {
   "cell_type": "code",
   "execution_count": 2,
   "id": "e900f8b7",
   "metadata": {},
   "outputs": [],
   "source": [
    "# Adding non-Azure Libraries\n",
    "import pandas as pd\n",
    "import numpy as np\n",
    "import os\n",
    "from pathlib import Path"
   ]
  },
  {
   "cell_type": "markdown",
   "id": "44f9e233",
   "metadata": {},
   "source": [
    "# Connecting to the Workspace:\n",
    "1. you can use the config\n",
    "2. you can point to another config object\n",
    "3. you can use .get and provide workspace name, subscription id and resource group name"
   ]
  },
  {
   "cell_type": "code",
   "execution_count": 3,
   "id": "7a2b7297",
   "metadata": {},
   "outputs": [],
   "source": [
    "# Connect to the AMLS Workspace\n",
    "ws = Workspace.from_config()"
   ]
  },
  {
   "cell_type": "code",
   "execution_count": 4,
   "id": "6c065472",
   "metadata": {},
   "outputs": [],
   "source": [
    "# Seting Compute Cluster for training\n",
    "compute = 'training-cluster' # write your own cluster name here\n",
    "compute_cluster = ComputeTarget(ws, compute)"
   ]
  },
  {
   "cell_type": "code",
   "execution_count": 5,
   "id": "79eb1def",
   "metadata": {},
   "outputs": [],
   "source": [
    "# Set the Datastore\n",
    "datastore = Datastore.get_default(ws)\n",
    "datastore_name = 'workspaceblobstore'\n",
    "blob_datastore = Datastore.get(ws, datastore_name)"
   ]
  },
  {
   "cell_type": "markdown",
   "id": "ff985a84",
   "metadata": {},
   "source": [
    "# Downloading the Oranje Juice Sales Dataset"
   ]
  },
  {
   "cell_type": "code",
   "execution_count": 6,
   "id": "b220e1fc",
   "metadata": {},
   "outputs": [],
   "source": [
    "# Download the Orange Juice Sales Data Set from Azure ML Open datasets\n",
    "oj_sales_files = OjSalesSimulated.get_file_dataset()\n",
    "oj_sales = oj_sales_files.take(10) # we limit the dataset to include first 10 files only"
   ]
  },
  {
   "cell_type": "code",
   "execution_count": 7,
   "id": "c3f5c41f",
   "metadata": {},
   "outputs": [],
   "source": [
    "# Create a folder called 'Orange Juice Sales Forecasting'; leave directory unaltered if already exists\n",
    "folder = \"Orange_Juice_Sales_Forecasting\"\n",
    "os.makedirs(folder, exist_ok=True)"
   ]
  },
  {
   "cell_type": "code",
   "execution_count": 8,
   "id": "733aa1a6",
   "metadata": {},
   "outputs": [
    {
     "data": {
      "text/plain": [
       "['/mnt/batch/tasks/shared/LS_root/mounts/clusters/forecasting-instance/code/Orange_Juice_Sales_Forecasting/https%3A/%2Fazureopendatastorage.azurefd.net/ojsales-simulatedcontainer/oj_sales_data/Store1000_dominicks.csv',\n",
       " '/mnt/batch/tasks/shared/LS_root/mounts/clusters/forecasting-instance/code/Orange_Juice_Sales_Forecasting/https%3A/%2Fazureopendatastorage.azurefd.net/ojsales-simulatedcontainer/oj_sales_data/Store1000_minute.maid.csv',\n",
       " '/mnt/batch/tasks/shared/LS_root/mounts/clusters/forecasting-instance/code/Orange_Juice_Sales_Forecasting/https%3A/%2Fazureopendatastorage.azurefd.net/ojsales-simulatedcontainer/oj_sales_data/Store1000_tropicana.csv',\n",
       " '/mnt/batch/tasks/shared/LS_root/mounts/clusters/forecasting-instance/code/Orange_Juice_Sales_Forecasting/https%3A/%2Fazureopendatastorage.azurefd.net/ojsales-simulatedcontainer/oj_sales_data/Store1001_dominicks.csv',\n",
       " '/mnt/batch/tasks/shared/LS_root/mounts/clusters/forecasting-instance/code/Orange_Juice_Sales_Forecasting/https%3A/%2Fazureopendatastorage.azurefd.net/ojsales-simulatedcontainer/oj_sales_data/Store1001_minute.maid.csv',\n",
       " '/mnt/batch/tasks/shared/LS_root/mounts/clusters/forecasting-instance/code/Orange_Juice_Sales_Forecasting/https%3A/%2Fazureopendatastorage.azurefd.net/ojsales-simulatedcontainer/oj_sales_data/Store1001_tropicana.csv',\n",
       " '/mnt/batch/tasks/shared/LS_root/mounts/clusters/forecasting-instance/code/Orange_Juice_Sales_Forecasting/https%3A/%2Fazureopendatastorage.azurefd.net/ojsales-simulatedcontainer/oj_sales_data/Store1002_dominicks.csv',\n",
       " '/mnt/batch/tasks/shared/LS_root/mounts/clusters/forecasting-instance/code/Orange_Juice_Sales_Forecasting/https%3A/%2Fazureopendatastorage.azurefd.net/ojsales-simulatedcontainer/oj_sales_data/Store1002_minute.maid.csv',\n",
       " '/mnt/batch/tasks/shared/LS_root/mounts/clusters/forecasting-instance/code/Orange_Juice_Sales_Forecasting/https%3A/%2Fazureopendatastorage.azurefd.net/ojsales-simulatedcontainer/oj_sales_data/Store1002_tropicana.csv',\n",
       " '/mnt/batch/tasks/shared/LS_root/mounts/clusters/forecasting-instance/code/Orange_Juice_Sales_Forecasting/https%3A/%2Fazureopendatastorage.azurefd.net/ojsales-simulatedcontainer/oj_sales_data/Store1003_dominicks.csv']"
      ]
     },
     "execution_count": 8,
     "metadata": {},
     "output_type": "execute_result"
    }
   ],
   "source": [
    "# Download the Orange Juice Sales Files to 'Orange Juice Sales Forecasting' folder\n",
    "oj_sales.download(folder, overwrite=True)"
   ]
  },
  {
   "cell_type": "code",
   "execution_count": 9,
   "id": "8435f67e",
   "metadata": {},
   "outputs": [],
   "source": [
    "# Create a single Pandas dataframe out of the OJ Files\n",
    "oj_file_path = Path('Orange_Juice_Sales_Forecasting').rglob('*.csv')\n",
    "oj_files = [x for x in oj_file_path]\n",
    "df = pd.concat((pd.read_csv(f) for f in oj_files))"
   ]
  },
  {
   "cell_type": "code",
   "execution_count": 10,
   "id": "ec08facb",
   "metadata": {},
   "outputs": [
    {
     "data": {
      "text/html": [
       "<div>\n",
       "<style scoped>\n",
       "    .dataframe tbody tr th:only-of-type {\n",
       "        vertical-align: middle;\n",
       "    }\n",
       "\n",
       "    .dataframe tbody tr th {\n",
       "        vertical-align: top;\n",
       "    }\n",
       "\n",
       "    .dataframe thead th {\n",
       "        text-align: right;\n",
       "    }\n",
       "</style>\n",
       "<table border=\"1\" class=\"dataframe\">\n",
       "  <thead>\n",
       "    <tr style=\"text-align: right;\">\n",
       "      <th></th>\n",
       "      <th>WeekStarting</th>\n",
       "      <th>Store</th>\n",
       "      <th>Brand</th>\n",
       "      <th>Quantity</th>\n",
       "      <th>Advert</th>\n",
       "      <th>Price</th>\n",
       "      <th>Revenue</th>\n",
       "    </tr>\n",
       "  </thead>\n",
       "  <tbody>\n",
       "    <tr>\n",
       "      <th>0</th>\n",
       "      <td>1990-06-14</td>\n",
       "      <td>1000</td>\n",
       "      <td>dominicks</td>\n",
       "      <td>12003</td>\n",
       "      <td>1</td>\n",
       "      <td>2.59</td>\n",
       "      <td>31087.77</td>\n",
       "    </tr>\n",
       "    <tr>\n",
       "      <th>1</th>\n",
       "      <td>1990-06-21</td>\n",
       "      <td>1000</td>\n",
       "      <td>dominicks</td>\n",
       "      <td>10239</td>\n",
       "      <td>1</td>\n",
       "      <td>2.39</td>\n",
       "      <td>24471.21</td>\n",
       "    </tr>\n",
       "    <tr>\n",
       "      <th>2</th>\n",
       "      <td>1990-06-28</td>\n",
       "      <td>1000</td>\n",
       "      <td>dominicks</td>\n",
       "      <td>17917</td>\n",
       "      <td>1</td>\n",
       "      <td>2.48</td>\n",
       "      <td>44434.16</td>\n",
       "    </tr>\n",
       "    <tr>\n",
       "      <th>3</th>\n",
       "      <td>1990-07-05</td>\n",
       "      <td>1000</td>\n",
       "      <td>dominicks</td>\n",
       "      <td>14218</td>\n",
       "      <td>1</td>\n",
       "      <td>2.33</td>\n",
       "      <td>33127.94</td>\n",
       "    </tr>\n",
       "    <tr>\n",
       "      <th>4</th>\n",
       "      <td>1990-07-12</td>\n",
       "      <td>1000</td>\n",
       "      <td>dominicks</td>\n",
       "      <td>15925</td>\n",
       "      <td>1</td>\n",
       "      <td>2.01</td>\n",
       "      <td>32009.25</td>\n",
       "    </tr>\n",
       "  </tbody>\n",
       "</table>\n",
       "</div>"
      ],
      "text/plain": [
       "  WeekStarting  Store      Brand  Quantity  Advert  Price   Revenue\n",
       "0   1990-06-14   1000  dominicks     12003       1   2.59  31087.77\n",
       "1   1990-06-21   1000  dominicks     10239       1   2.39  24471.21\n",
       "2   1990-06-28   1000  dominicks     17917       1   2.48  44434.16\n",
       "3   1990-07-05   1000  dominicks     14218       1   2.33  33127.94\n",
       "4   1990-07-12   1000  dominicks     15925       1   2.01  32009.25"
      ]
     },
     "execution_count": 10,
     "metadata": {},
     "output_type": "execute_result"
    }
   ],
   "source": [
    "# View the Pandas dataframe\n",
    "df.head()"
   ]
  },
  {
   "cell_type": "code",
   "execution_count": 11,
   "id": "66bff80e",
   "metadata": {},
   "outputs": [
    {
     "data": {
      "text/plain": [
       "'1990-06-14'"
      ]
     },
     "execution_count": 11,
     "metadata": {},
     "output_type": "execute_result"
    }
   ],
   "source": [
    "df.WeekStarting.min()"
   ]
  },
  {
   "cell_type": "code",
   "execution_count": 12,
   "id": "d8a5ef58",
   "metadata": {},
   "outputs": [
    {
     "data": {
      "text/plain": [
       "'1992-10-01'"
      ]
     },
     "execution_count": 12,
     "metadata": {},
     "output_type": "execute_result"
    }
   ],
   "source": [
    "df.WeekStarting.max()"
   ]
  },
  {
   "cell_type": "markdown",
   "id": "7eeaa88b",
   "metadata": {},
   "source": [
    "# Register the Oranje Juice Dataset on Azure Machine Learning Workspace"
   ]
  },
  {
   "cell_type": "code",
   "execution_count": 13,
   "id": "2541ad27",
   "metadata": {
    "scrolled": true
   },
   "outputs": [
    {
     "name": "stderr",
     "output_type": "stream",
     "text": [
      "Method register_pandas_dataframe: This is an experimental method, and may change at any time. Please see https://aka.ms/azuremlexperimental for more information.\n"
     ]
    },
    {
     "name": "stdout",
     "output_type": "stream",
     "text": [
      "Validating arguments.\n",
      "Arguments validated.\n",
      "Successfully obtained datastore reference and path.\n",
      "Uploading file to managed-dataset/ac4190c4-9a9a-414c-a584-850834dbfb28/\n",
      "Successfully uploaded file to datastore.\n",
      "Creating and registering a new dataset.\n",
      "Successfully created and registered a new dataset.\n"
     ]
    },
    {
     "data": {
      "text/plain": [
       "{\n",
       "  \"source\": [\n",
       "    \"('workspaceblobstore', 'managed-dataset/ac4190c4-9a9a-414c-a584-850834dbfb28/')\"\n",
       "  ],\n",
       "  \"definition\": [\n",
       "    \"GetDatastoreFiles\",\n",
       "    \"ReadParquetFile\",\n",
       "    \"DropColumns\"\n",
       "  ],\n",
       "  \"registration\": {\n",
       "    \"id\": \"eb0e3da6-0b7c-41a4-9331-0ca3c37c59f8\",\n",
       "    \"name\": \"OJ Sales Training Dataset\",\n",
       "    \"version\": 3,\n",
       "    \"workspace\": \"Workspace.create(name='wsforecasting', subscription_id='497d1b53-aa2e-4f5e-a21d-20ab61cff740', resource_group='rgforecasting')\"\n",
       "  }\n",
       "}"
      ]
     },
     "execution_count": 13,
     "metadata": {},
     "output_type": "execute_result"
    }
   ],
   "source": [
    "# Register OJ Sales as a dataset\n",
    "Dataset.Tabular.register_pandas_dataframe(df, datastore,\"OJ Sales Training Dataset\")"
   ]
  },
  {
   "cell_type": "code",
   "execution_count": 14,
   "id": "7db43d4b",
   "metadata": {},
   "outputs": [],
   "source": [
    "# Set the experiment that will be used to train the AutoML Model\n",
    "experiment_name = 'Orange-Juice-Sales-Forecasting'\n",
    "exp = Experiment(workspace=ws, name=experiment_name)"
   ]
  },
  {
   "cell_type": "code",
   "execution_count": 15,
   "id": "0e7db3ed",
   "metadata": {},
   "outputs": [],
   "source": [
    "# Retrieve the OJ Sales Sample dataset\n",
    "dataset_name = \"OJ Sales Training Dataset\"\n",
    "dataset = Dataset.get_by_name(ws, dataset_name)"
   ]
  },
  {
   "cell_type": "markdown",
   "id": "fca3c91a",
   "metadata": {},
   "source": [
    "# Set Forecasting Parameters "
   ]
  },
  {
   "cell_type": "code",
   "execution_count": 16,
   "id": "d25b06bd",
   "metadata": {},
   "outputs": [],
   "source": [
    "forecasting_parameters = {'time_column_name':'WeekStarting',\n",
    "                          'forecast_horizon': 5,\n",
    "                          'time_series_id_column_names':['Store','Brand'],\n",
    "                          'target_lags': 'auto',\n",
    "                          'feature_lags': 'auto',\n",
    "                          'target_rolling_window_size': 'auto',\n",
    "                          'country_or_region_for_holidays':'US',\n",
    "                          'seasonality': 'auto',\n",
    "                          'short_series_handling': True,\n",
    "                          'short_series_handling_configuration': 'auto',                                                                                 \n",
    "                          'use_stl': 'season_trend'                       \n",
    "                          }"
   ]
  },
  {
   "cell_type": "code",
   "execution_count": 17,
   "id": "3fd9c320",
   "metadata": {},
   "outputs": [],
   "source": [
    "parameters=ForecastingParameters.from_parameters_dict(parameter_dict=forecasting_parameters,validate_params=True)"
   ]
  },
  {
   "cell_type": "markdown",
   "id": "be217af8",
   "metadata": {},
   "source": [
    "# Set AutoML Configuration"
   ]
  },
  {
   "cell_type": "code",
   "execution_count": 18,
   "id": "1bab78e9",
   "metadata": {},
   "outputs": [],
   "source": [
    "config = AutoMLConfig(task='forecasting',\n",
    "                     primary_metric= 'normalized_root_mean_squared_error',\n",
    "                     featurization= 'auto',\n",
    "                     compute_target=compute_cluster,\n",
    "                     training_data=dataset,\n",
    "                     label_column_name= 'Quantity',\n",
    "                     experiment_timeout_minutes= 60,\n",
    "                     enable_early_stopping= False,\n",
    "                     n_cross_validations=3,\n",
    "                     model_explainability=False,\n",
    "                     enable_stack_ensemble=False,\n",
    "                     enable_voting_ensemble=True,\n",
    "                     enable_dnn = False,\n",
    "                     forecasting_parameters=parameters)"
   ]
  },
  {
   "cell_type": "markdown",
   "id": "cdfaa66c",
   "metadata": {},
   "source": [
    "# Start a New Training Run"
   ]
  },
  {
   "cell_type": "code",
   "execution_count": 19,
   "id": "35b7ca92",
   "metadata": {},
   "outputs": [
    {
     "name": "stdout",
     "output_type": "stream",
     "text": [
      "Submitting remote run.\n",
      "No run_configuration provided, running on training-cluster with default configuration\n",
      "Running on remote compute: training-cluster\n"
     ]
    },
    {
     "data": {
      "text/html": [
       "<table style=\"width:100%\"><tr><th>Experiment</th><th>Id</th><th>Type</th><th>Status</th><th>Details Page</th><th>Docs Page</th></tr><tr><td>Orange-Juice-Sales-Forecasting</td><td>AutoML_ae98dd4c-0a79-4486-ac74-44480a9bc507</td><td>automl</td><td>NotStarted</td><td><a href=\"https://ml.azure.com/runs/AutoML_ae98dd4c-0a79-4486-ac74-44480a9bc507?wsid=/subscriptions/497d1b53-aa2e-4f5e-a21d-20ab61cff740/resourcegroups/rgforecasting/workspaces/wsforecasting&amp;tid=e7e6256a-7f45-4c36-b602-d90f8b7e3a92\" target=\"_blank\" rel=\"noopener\">Link to Azure Machine Learning studio</a></td><td><a href=\"https://docs.microsoft.com/en-us/python/api/overview/azure/ml/intro?view=azure-ml-py\" target=\"_blank\" rel=\"noopener\">Link to Documentation</a></td></tr></table>"
      ],
      "text/plain": [
       "<IPython.core.display.HTML object>"
      ]
     },
     "metadata": {},
     "output_type": "display_data"
    },
    {
     "name": "stdout",
     "output_type": "stream",
     "text": [
      "\n",
      "Current status: DatasetFeaturizationCompleted. Completed featurizing the dataset.\n",
      "Current status: DatasetFeaturization. Beginning to featurize the CV split.\n",
      "Current status: DatasetFeaturizationCompleted. Completed featurizing the CV split.\n",
      "Current status: ModelSelection. Beginning model selection.\n",
      "Heuristic parameters: Target_Lag = '[0]', Target_Rolling_Window = '0'.\n",
      "\n",
      "\n",
      "****************************************************************************************************\n",
      "DATA GUARDRAILS: \n",
      "\n",
      "TYPE:         Time Series ID detection\n",
      "STATUS:       PASSED\n",
      "DESCRIPTION:  The data set was analyzed, and no duplicate time index were detected.\n",
      "              Learn more about time-series forecasting configurations: https://aka.ms/AutomatedMLForecastingConfiguration\n",
      "\n",
      "****************************************************************************************************\n",
      "\n",
      "TYPE:         Frequency detection\n",
      "STATUS:       PASSED\n",
      "DESCRIPTION:  The time series was analyzed, all data points are aligned with detected frequency.\n",
      "              \n",
      "\n",
      "****************************************************************************************************\n",
      "\n",
      "TYPE:         Missing feature values imputation\n",
      "STATUS:       PASSED\n",
      "DESCRIPTION:  No feature missing values were detected in the training data.\n",
      "              Learn more about missing value imputation: https://aka.ms/AutomatedMLFeaturization\n",
      "\n",
      "****************************************************************************************************\n",
      "\n",
      "TYPE:         Memory Issues Detection\n",
      "STATUS:       PASSED\n",
      "DESCRIPTION:  The selected horizon, lag and rolling window values were analyzed, and no potential memory issues were detected.\n",
      "              Learn more about time-series forecasting configurations: https://aka.ms/AutomatedMLForecastingConfiguration\n",
      "\n",
      "****************************************************************************************************\n",
      "\n",
      "TYPE:         Short series handling\n",
      "STATUS:       PASSED\n",
      "DESCRIPTION:  Automated ML detected enough data points for each series in the input data to continue with training.\n",
      "              \n",
      "\n",
      "****************************************************************************************************\n",
      "\n",
      "****************************************************************************************************\n",
      "ITERATION: The iteration being evaluated.\n",
      "PIPELINE: A summary description of the pipeline being evaluated.\n",
      "DURATION: Time taken for the current iteration.\n",
      "METRIC: The result of computing score on the fitted pipeline.\n",
      "BEST: The best observed score thus far.\n",
      "****************************************************************************************************\n",
      "\n",
      " ITERATION   PIPELINE                                       DURATION      METRIC      BEST\n",
      "         0    Naive                                         0:01:46       0.3914    0.3914\n",
      "         1    SeasonalNaive                                 0:01:58       0.3848    0.3848\n",
      "         2    Average                                       0:02:00       0.2640    0.2640\n",
      "         3    SeasonalAverage                               0:02:10       0.2887    0.2640\n",
      "         4    ExponentialSmoothing                          0:01:46       0.2655    0.2640\n",
      "         5    Arimax                                        0:01:28       0.0270    0.0270\n",
      "         6    ProphetModel                                  0:01:28       0.0323    0.0270\n",
      "         7   StandardScalerWrapper LightGBM                 0:01:29       0.0091    0.0091\n",
      "         8   StandardScalerWrapper XGBoostRegressor         0:02:08       0.0139    0.0091\n",
      "         9   MaxAbsScaler ElasticNet                        0:01:57       0.0249    0.0091\n",
      "        10   RobustScaler ElasticNet                        0:01:55       0.0237    0.0091\n",
      "        11   MinMaxScaler ElasticNet                        0:02:04       0.0238    0.0091\n",
      "        12   StandardScalerWrapper ElasticNet               0:01:55       0.0237    0.0091\n",
      "        13   MinMaxScaler RandomForest                      0:02:05       0.0985    0.0091\n",
      "        14   MaxAbsScaler ElasticNet                        0:01:56       0.0240    0.0091\n",
      "        15   StandardScalerWrapper ElasticNet               0:01:56       0.0237    0.0091\n",
      "        16   MaxAbsScaler ElasticNet                        0:02:04       0.0237    0.0091\n",
      "        17   StandardScalerWrapper ElasticNet               0:01:57       0.0237    0.0091\n",
      "        18   MinMaxScaler ExtremeRandomTrees                0:02:04       0.0428    0.0091\n",
      "        19   MinMaxScaler RandomForest                      0:01:55       0.0244    0.0091\n",
      "        20   MinMaxScaler ExtremeRandomTrees                0:02:10       0.0625    0.0091\n",
      "        21   MinMaxScaler ExtremeRandomTrees                0:01:47       0.1294    0.0091\n",
      "        22   MaxAbsScaler ExtremeRandomTrees                0:02:00       0.0244    0.0091\n",
      "        23   MinMaxScaler DecisionTree                      0:01:56       0.0621    0.0091\n",
      "        24   RobustScaler ExtremeRandomTrees                0:02:04       0.0406    0.0091\n",
      "        25   SparseNormalizer LightGBM                      0:01:57       0.0115    0.0091\n",
      "        26   RobustScaler DecisionTree                      0:02:04       0.0563    0.0091\n",
      "        27   MaxAbsScaler LightGBM                          0:01:54       0.0127    0.0091\n",
      "ERROR: {\n",
      "    \"additional_properties\": {},\n",
      "    \"error\": {\n",
      "        \"additional_properties\": {\n",
      "            \"debugInfo\": null\n",
      "        },\n",
      "        \"code\": \"UserError\",\n",
      "        \"severity\": null,\n",
      "        \"message\": \"Experiment timeout reached, please consider increasing your experiment timeout.\",\n",
      "        \"message_format\": \"Experiment timeout reached, please consider increasing your experiment timeout.\",\n",
      "        \"message_parameters\": {},\n",
      "        \"reference_code\": null,\n",
      "        \"details_uri\": null,\n",
      "        \"target\": null,\n",
      "        \"details\": [],\n",
      "        \"inner_error\": {\n",
      "            \"additional_properties\": {},\n",
      "            \"code\": \"ResourceExhausted\",\n",
      "            \"inner_error\": {\n",
      "                \"additional_properties\": {},\n",
      "                \"code\": \"Timeout\",\n",
      "                \"inner_error\": {\n",
      "                    \"additional_properties\": {},\n",
      "                    \"code\": \"ExperimentTimeoutForIterations\",\n",
      "                    \"inner_error\": null\n",
      "                }\n",
      "            }\n",
      "        },\n",
      "        \"additional_info\": null\n",
      "    },\n",
      "    \"correlation\": null,\n",
      "    \"environment\": null,\n",
      "    \"location\": null,\n",
      "    \"time\": {},\n",
      "    \"component_name\": null\n",
      "}\n",
      "        28    VotingEnsemble                                0:00:54       0.0069    0.0069\n"
     ]
    },
    {
     "data": {
      "application/vnd.jupyter.widget-view+json": {
       "model_id": "c96b5e1c2bf54d8c9a32199919193e80",
       "version_major": 2,
       "version_minor": 0
      },
      "text/plain": [
       "_AutoMLWidget(widget_settings={'childWidgetDisplay': 'popup', 'send_telemetry': False, 'log_level': 'INFO', 's…"
      ]
     },
     "metadata": {},
     "output_type": "display_data"
    },
    {
     "data": {
      "application/aml.mini.widget.v1": "{\"status\": \"Completed\", \"workbench_run_details_uri\": \"https://ml.azure.com/runs/AutoML_ae98dd4c-0a79-4486-ac74-44480a9bc507?wsid=/subscriptions/497d1b53-aa2e-4f5e-a21d-20ab61cff740/resourcegroups/rgforecasting/workspaces/wsforecasting&tid=e7e6256a-7f45-4c36-b602-d90f8b7e3a92\", \"run_id\": \"AutoML_ae98dd4c-0a79-4486-ac74-44480a9bc507\", \"run_properties\": {\"run_id\": \"AutoML_ae98dd4c-0a79-4486-ac74-44480a9bc507\", \"created_utc\": \"2021-11-29T12:39:03.568336Z\", \"properties\": {\"num_iterations\": \"1000\", \"training_type\": \"TrainFull\", \"acquisition_function\": \"EI\", \"primary_metric\": \"normalized_root_mean_squared_error\", \"train_split\": \"0\", \"acquisition_parameter\": \"0\", \"num_cross_validation\": \"3\", \"target\": \"training-cluster\", \"AMLSettingsJsonString\": \"{\\\"path\\\":null,\\\"name\\\":\\\"Orange-Juice-Sales-Forecasting\\\",\\\"subscription_id\\\":\\\"497d1b53-aa2e-4f5e-a21d-20ab61cff740\\\",\\\"resource_group\\\":\\\"rgforecasting\\\",\\\"workspace_name\\\":\\\"wsforecasting\\\",\\\"region\\\":\\\"eastus\\\",\\\"compute_target\\\":\\\"training-cluster\\\",\\\"spark_service\\\":null,\\\"azure_service\\\":\\\"remote\\\",\\\"many_models\\\":false,\\\"pipeline_fetch_max_batch_size\\\":1,\\\"enable_batch_run\\\":false,\\\"enable_run_restructure\\\":false,\\\"start_auxiliary_runs_before_parent_complete\\\":false,\\\"enable_code_generation\\\":false,\\\"iterations\\\":1000,\\\"primary_metric\\\":\\\"normalized_root_mean_squared_error\\\",\\\"task_type\\\":\\\"regression\\\",\\\"data_script\\\":null,\\\"test_size\\\":0.0,\\\"test_include_predictions_only\\\":false,\\\"validation_size\\\":0.0,\\\"n_cross_validations\\\":3,\\\"y_min\\\":null,\\\"y_max\\\":null,\\\"num_classes\\\":null,\\\"featurization\\\":\\\"auto\\\",\\\"_ignore_package_version_incompatibilities\\\":false,\\\"is_timeseries\\\":true,\\\"max_cores_per_iteration\\\":1,\\\"max_concurrent_iterations\\\":1,\\\"iteration_timeout_minutes\\\":null,\\\"mem_in_mb\\\":null,\\\"enforce_time_on_windows\\\":false,\\\"experiment_timeout_minutes\\\":60,\\\"experiment_exit_score\\\":null,\\\"whitelist_models\\\":null,\\\"blacklist_algos\\\":[\\\"TensorFlowDNN\\\",\\\"TensorFlowLinearRegressor\\\"],\\\"supported_models\\\":[\\\"TCNForecaster\\\",\\\"Arimax\\\",\\\"Average\\\",\\\"LassoLars\\\",\\\"AutoArima\\\",\\\"TensorFlowDNN\\\",\\\"ExponentialSmoothing\\\",\\\"SGD\\\",\\\"ExtremeRandomTrees\\\",\\\"SeasonalNaive\\\",\\\"GradientBoosting\\\",\\\"SeasonalAverage\\\",\\\"TensorFlowLinearRegressor\\\",\\\"LightGBM\\\",\\\"DecisionTree\\\",\\\"Naive\\\",\\\"ElasticNet\\\",\\\"KNN\\\",\\\"RandomForest\\\",\\\"Prophet\\\",\\\"XGBoostRegressor\\\"],\\\"private_models\\\":[],\\\"auto_blacklist\\\":true,\\\"blacklist_samples_reached\\\":false,\\\"exclude_nan_labels\\\":true,\\\"verbosity\\\":20,\\\"_debug_log\\\":\\\"azureml_automl.log\\\",\\\"show_warnings\\\":false,\\\"model_explainability\\\":false,\\\"service_url\\\":null,\\\"sdk_url\\\":null,\\\"sdk_packages\\\":null,\\\"enable_onnx_compatible_models\\\":false,\\\"enable_split_onnx_featurizer_estimator_models\\\":false,\\\"vm_type\\\":\\\"STANDARD_DS3_V2\\\",\\\"telemetry_verbosity\\\":20,\\\"send_telemetry\\\":true,\\\"enable_dnn\\\":false,\\\"scenario\\\":\\\"SDK-1.13.0\\\",\\\"environment_label\\\":null,\\\"save_mlflow\\\":false,\\\"force_text_dnn\\\":false,\\\"enable_feature_sweeping\\\":false,\\\"time_column_name\\\":\\\"WeekStarting\\\",\\\"grain_column_names\\\":[\\\"Store\\\",\\\"Brand\\\"],\\\"drop_column_names\\\":[],\\\"max_horizon\\\":5,\\\"dropna\\\":false,\\\"overwrite_columns\\\":true,\\\"transform_dictionary\\\":{\\\"min\\\":\\\"_automl_target_col\\\",\\\"max\\\":\\\"_automl_target_col\\\",\\\"mean\\\":\\\"_automl_target_col\\\"},\\\"window_size\\\":\\\"auto\\\",\\\"country_or_region\\\":\\\"US\\\",\\\"lags\\\":{\\\"_automl_target_col\\\":[\\\"auto\\\"]},\\\"feature_lags\\\":\\\"auto\\\",\\\"seasonality\\\":\\\"auto\\\",\\\"use_stl\\\":\\\"season_trend\\\",\\\"short_series_handling\\\":true,\\\"freq\\\":null,\\\"short_series_handling_configuration\\\":\\\"auto\\\",\\\"target_aggregation_function\\\":null,\\\"enable_early_stopping\\\":false,\\\"early_stopping_n_iters\\\":10,\\\"metrics\\\":null,\\\"enable_metric_confidence\\\":false,\\\"enable_ensembling\\\":true,\\\"enable_stack_ensembling\\\":false,\\\"ensemble_iterations\\\":15,\\\"enable_tf\\\":false,\\\"enable_subsampling\\\":false,\\\"subsample_seed\\\":null,\\\"enable_nimbusml\\\":false,\\\"enable_streaming\\\":false,\\\"force_streaming\\\":false,\\\"track_child_runs\\\":true,\\\"allowed_private_models\\\":[],\\\"label_column_name\\\":\\\"Quantity\\\",\\\"weight_column_name\\\":null,\\\"cv_split_column_names\\\":null,\\\"positive_label\\\":null,\\\"enable_local_managed\\\":false,\\\"_local_managed_run_id\\\":null,\\\"cost_mode\\\":1,\\\"lag_length\\\":0,\\\"metric_operation\\\":\\\"minimize\\\",\\\"preprocess\\\":true}\", \"DataPrepJsonString\": \"{\\\\\\\"training_data\\\\\\\": {\\\\\\\"datasetId\\\\\\\": \\\\\\\"eb0e3da6-0b7c-41a4-9331-0ca3c37c59f8\\\\\\\"}, \\\\\\\"datasets\\\\\\\": 0}\", \"EnableSubsampling\": \"False\", \"runTemplate\": \"AutoML\", \"azureml.runsource\": \"automl\", \"display_task_type\": \"forecasting\", \"dependencies_versions\": \"{\\\"azureml-widgets\\\": \\\"1.34.0\\\", \\\"azureml-train\\\": \\\"1.34.0\\\", \\\"azureml-train-restclients-hyperdrive\\\": \\\"1.34.0\\\", \\\"azureml-train-core\\\": \\\"1.34.0\\\", \\\"azureml-train-automl-client\\\": \\\"1.34.0\\\", \\\"azureml-tensorboard\\\": \\\"1.34.0\\\", \\\"azureml-telemetry\\\": \\\"1.34.0\\\", \\\"azureml-sdk\\\": \\\"1.34.0\\\", \\\"azureml-pipeline\\\": \\\"1.34.0\\\", \\\"azureml-pipeline-steps\\\": \\\"1.34.0\\\", \\\"azureml-pipeline-core\\\": \\\"1.34.0\\\", \\\"azureml-opendatasets\\\": \\\"1.34.0\\\", \\\"azureml-mlflow\\\": \\\"1.34.0\\\", \\\"azureml-interpret\\\": \\\"1.34.0\\\", \\\"azureml-inference-server-http\\\": \\\"0.3.1\\\", \\\"azureml-explain-model\\\": \\\"1.34.0\\\", \\\"azureml-defaults\\\": \\\"1.34.0\\\", \\\"azureml-dataset-runtime\\\": \\\"1.34.0\\\", \\\"azureml-dataprep\\\": \\\"2.22.2\\\", \\\"azureml-dataprep-rslex\\\": \\\"1.20.1\\\", \\\"azureml-dataprep-native\\\": \\\"38.0.0\\\", \\\"azureml-datadrift\\\": \\\"1.34.0\\\", \\\"azureml-core\\\": \\\"1.34.0\\\", \\\"azureml-contrib-services\\\": \\\"1.34.0\\\", \\\"azureml-contrib-server\\\": \\\"1.34.0\\\", \\\"azureml-contrib-reinforcementlearning\\\": \\\"1.34.0\\\", \\\"azureml-contrib-pipeline-steps\\\": \\\"1.34.0\\\", \\\"azureml-contrib-notebook\\\": \\\"1.34.0\\\", \\\"azureml-contrib-fairness\\\": \\\"1.34.0\\\", \\\"azureml-contrib-dataset\\\": \\\"1.34.0\\\", \\\"azureml-cli-common\\\": \\\"1.34.0\\\", \\\"azureml-automl-core\\\": \\\"1.34.0\\\", \\\"azureml-accel-models\\\": \\\"1.34.0\\\"}\", \"_aml_system_scenario_identification\": \"Remote.Parent\", \"ClientType\": \"SDK\", \"environment_cpu_name\": \"AzureML-AutoML\", \"environment_cpu_label\": \"prod\", \"environment_gpu_name\": \"AzureML-AutoML-GPU\", \"environment_gpu_label\": \"prod\", \"root_attribution\": \"automl\", \"attribution\": \"AutoML\", \"Orchestrator\": \"AutoML\", \"CancelUri\": \"https://eastus.api.azureml.ms/jasmine/v1.0/subscriptions/497d1b53-aa2e-4f5e-a21d-20ab61cff740/resourceGroups/rgforecasting/providers/Microsoft.MachineLearningServices/workspaces/wsforecasting/experimentids/1551cc65-efcb-460b-a0a5-a598bba3bb5f/cancel/AutoML_ae98dd4c-0a79-4486-ac74-44480a9bc507\", \"ClientSdkVersion\": \"1.35.1\", \"snapshotId\": \"00000000-0000-0000-0000-000000000000\", \"SetupRunId\": \"AutoML_ae98dd4c-0a79-4486-ac74-44480a9bc507_setup\", \"SetupRunContainerId\": \"dcid.AutoML_ae98dd4c-0a79-4486-ac74-44480a9bc507_setup\", \"forecasting_target_lags\": \"[0]\", \"forecasting_target_rolling_window_size\": \"0\", \"forecasting_max_horizon\": \"5\", \"forecasting_freq\": \"W-THU\", \"ProblemInfoJsonString\": \"{\\\"dataset_num_categorical\\\": 0, \\\"is_sparse\\\": false, \\\"subsampling\\\": false, \\\"has_extra_col\\\": true, \\\"dataset_classes\\\": 2159, \\\"dataset_features\\\": 17, \\\"dataset_samples\\\": 2420, \\\"single_frequency_class_detected\\\": false, \\\"series_column_count\\\": 2, \\\"series_count\\\": 20, \\\"series_len_min\\\": 121, \\\"series_len_max\\\": 121, \\\"series_len_avg\\\": 121.0, \\\"series_len_perc_25\\\": 121.0, \\\"series_len_perc_50\\\": 121.0, \\\"series_len_perc_75\\\": 121.0}\"}, \"tags\": {\"model_explain_run\": \"best_run\", \"_aml_system_azureml.automlComponent\": \"AutoML\", \"auto\": \"Heuristic parameters: Target_Lag = '[0]', Target_Rolling_Window = '0'.\\n\", \"pipeline_id\": \"\", \"score\": \"\", \"predicted_cost\": \"\", \"fit_time\": \"\", \"training_percent\": \"\", \"iteration\": \"\", \"run_preprocessor\": \"\", \"run_algorithm\": \"\", \"dynamic_whitelisting_iterations\": \"<25>;\", \"_aml_system_azureml.automl_early_exit_message\": \"Experiment timeout reached, hence experiment stopped. Current experiment timeout: 1 hour(s) 0 minute(s)\", \"automl_best_child_run_id\": \"AutoML_ae98dd4c-0a79-4486-ac74-44480a9bc507_28\"}, \"end_time_utc\": \"2021-11-29T13:45:18.458703Z\", \"status\": \"Completed\", \"log_files\": {}, \"log_groups\": [], \"run_duration\": \"1:06:14\", \"run_number\": \"7\", \"run_queued_details\": {\"status\": \"Completed\", \"details\": null}}, \"child_runs\": [{\"run_id\": \"AutoML_ae98dd4c-0a79-4486-ac74-44480a9bc507_setup\", \"run_number\": 8, \"metric\": null, \"status\": \"Completed\", \"run_type\": \"azureml.scriptrun\", \"training_percent\": null, \"start_time\": \"2021-11-29T12:43:22.153391Z\", \"end_time\": \"2021-11-29T12:44:04.18565Z\", \"created_time\": \"2021-11-29T12:39:16.513907Z\", \"created_time_dt\": \"2021-11-29T12:39:16.513907Z\", \"duration\": \"0:04:47\", \"iteration\": null, \"goal\": null, \"run_name\": \"Completed\", \"run_properties\": null}, {\"run_id\": \"AutoML_ae98dd4c-0a79-4486-ac74-44480a9bc507_0\", \"run_number\": 9, \"metric\": null, \"status\": \"Completed\", \"run_type\": \"azureml.scriptrun\", \"training_percent\": \"100\", \"start_time\": \"2021-11-29T12:44:07.340483Z\", \"end_time\": \"2021-11-29T12:45:53.337455Z\", \"created_time\": \"2021-11-29T12:44:07.340483Z\", \"created_time_dt\": \"2021-11-29T12:44:07.340483Z\", \"duration\": \"0:01:45\", \"iteration\": \"0\", \"goal\": \"normalized_root_mean_squared_error_min\", \"run_name\": \"Naive\", \"run_properties\": \"\\n    timeseries_param_dict={'time_column_name': 'WeekStarting', 'grain_column_names': ['Store', 'Brand'], 'drop_column_names': [], 'overwrite_columns': True, 'dropna': False, 'transform_dictionary': {'min': '_automl_target_col', 'max': '_automl_target_col', 'mean': '_automl_target_col'}, 'max_horizon': 5, 'origin_time_colname': 'origin', 'country_or_region': 'US', 'n_cross_validations': 3, 'short_series_handling': True, 'max_cores_per_iteration': 1, 'feature_lags': 'auto', 'target_aggregation_function': None, 'cv_step_size': None, 'window_size': 'auto', 'lags': {'_automl_target_col': ['auto']}, 'seasonality': 4, 'use_stl': 'season_trend', 'freq': 'W-THU', 'short_series_handling_configuration': 'auto', 'target_lags': [0], 'target_rolling_window_size': 0, 'arimax_raw_columns': ['Advert', 'Store', 'Price', 'WeekStarting', 'Revenue', 'Brand']}\\n\", \"primary_metric\": 0.39140555, \"best_metric\": 0.39140555}, {\"run_id\": \"AutoML_ae98dd4c-0a79-4486-ac74-44480a9bc507_1\", \"run_number\": 10, \"metric\": null, \"status\": \"Completed\", \"run_type\": \"azureml.scriptrun\", \"training_percent\": \"100\", \"start_time\": \"2021-11-29T12:45:54.872657Z\", \"end_time\": \"2021-11-29T12:47:53.109657Z\", \"created_time\": \"2021-11-29T12:45:54.872657Z\", \"created_time_dt\": \"2021-11-29T12:45:54.872657Z\", \"duration\": \"0:01:58\", \"iteration\": \"1\", \"goal\": \"normalized_root_mean_squared_error_min\", \"run_name\": \"SeasonalNaive\", \"run_properties\": \"\\n    timeseries_param_dict={'time_column_name': 'WeekStarting', 'grain_column_names': ['Store', 'Brand'], 'drop_column_names': [], 'overwrite_columns': True, 'dropna': False, 'transform_dictionary': {'min': '_automl_target_col', 'max': '_automl_target_col', 'mean': '_automl_target_col'}, 'max_horizon': 5, 'origin_time_colname': 'origin', 'country_or_region': 'US', 'n_cross_validations': 3, 'short_series_handling': True, 'max_cores_per_iteration': 1, 'feature_lags': 'auto', 'target_aggregation_function': None, 'cv_step_size': None, 'window_size': 'auto', 'lags': {'_automl_target_col': ['auto']}, 'seasonality': 4, 'use_stl': 'season_trend', 'freq': 'W-THU', 'short_series_handling_configuration': 'auto', 'target_lags': [0], 'target_rolling_window_size': 0, 'arimax_raw_columns': ['Advert', 'Store', 'Price', 'WeekStarting', 'Revenue', 'Brand']}\\n\", \"primary_metric\": 0.38476893, \"best_metric\": 0.38476893}, {\"run_id\": \"AutoML_ae98dd4c-0a79-4486-ac74-44480a9bc507_2\", \"run_number\": 11, \"metric\": null, \"status\": \"Completed\", \"run_type\": \"azureml.scriptrun\", \"training_percent\": \"100\", \"start_time\": \"2021-11-29T12:47:54.061555Z\", \"end_time\": \"2021-11-29T12:49:53.562641Z\", \"created_time\": \"2021-11-29T12:47:54.061555Z\", \"created_time_dt\": \"2021-11-29T12:47:54.061555Z\", \"duration\": \"0:01:59\", \"iteration\": \"2\", \"goal\": \"normalized_root_mean_squared_error_min\", \"run_name\": \"Average\", \"run_properties\": \"\\n    timeseries_param_dict={'time_column_name': 'WeekStarting', 'grain_column_names': ['Store', 'Brand'], 'drop_column_names': [], 'overwrite_columns': True, 'dropna': False, 'transform_dictionary': {'min': '_automl_target_col', 'max': '_automl_target_col', 'mean': '_automl_target_col'}, 'max_horizon': 5, 'origin_time_colname': 'origin', 'country_or_region': 'US', 'n_cross_validations': 3, 'short_series_handling': True, 'max_cores_per_iteration': 1, 'feature_lags': 'auto', 'target_aggregation_function': None, 'cv_step_size': None, 'window_size': 'auto', 'lags': {'_automl_target_col': ['auto']}, 'seasonality': 4, 'use_stl': 'season_trend', 'freq': 'W-THU', 'short_series_handling_configuration': 'auto', 'target_lags': [0], 'target_rolling_window_size': 0, 'arimax_raw_columns': ['Advert', 'Store', 'Price', 'WeekStarting', 'Revenue', 'Brand']}\\n\", \"primary_metric\": 0.26402123, \"best_metric\": 0.26402123}, {\"run_id\": \"AutoML_ae98dd4c-0a79-4486-ac74-44480a9bc507_3\", \"run_number\": 12, \"metric\": null, \"status\": \"Completed\", \"run_type\": \"azureml.scriptrun\", \"training_percent\": \"100\", \"start_time\": \"2021-11-29T12:49:54.549929Z\", \"end_time\": \"2021-11-29T12:52:04.531552Z\", \"created_time\": \"2021-11-29T12:49:54.549929Z\", \"created_time_dt\": \"2021-11-29T12:49:54.549929Z\", \"duration\": \"0:02:09\", \"iteration\": \"3\", \"goal\": \"normalized_root_mean_squared_error_min\", \"run_name\": \"SeasonalAverage\", \"run_properties\": \"\\n    timeseries_param_dict={'time_column_name': 'WeekStarting', 'grain_column_names': ['Store', 'Brand'], 'drop_column_names': [], 'overwrite_columns': True, 'dropna': False, 'transform_dictionary': {'min': '_automl_target_col', 'max': '_automl_target_col', 'mean': '_automl_target_col'}, 'max_horizon': 5, 'origin_time_colname': 'origin', 'country_or_region': 'US', 'n_cross_validations': 3, 'short_series_handling': True, 'max_cores_per_iteration': 1, 'feature_lags': 'auto', 'target_aggregation_function': None, 'cv_step_size': None, 'window_size': 'auto', 'lags': {'_automl_target_col': ['auto']}, 'seasonality': 4, 'use_stl': 'season_trend', 'freq': 'W-THU', 'short_series_handling_configuration': 'auto', 'target_lags': [0], 'target_rolling_window_size': 0, 'arimax_raw_columns': ['Advert', 'Store', 'Price', 'WeekStarting', 'Revenue', 'Brand']}\\n\", \"primary_metric\": 0.28866706, \"best_metric\": 0.26402123}, {\"run_id\": \"AutoML_ae98dd4c-0a79-4486-ac74-44480a9bc507_4\", \"run_number\": 13, \"metric\": null, \"status\": \"Completed\", \"run_type\": \"azureml.scriptrun\", \"training_percent\": \"100\", \"start_time\": \"2021-11-29T12:55:28.660342Z\", \"end_time\": \"2021-11-29T12:57:14.272364Z\", \"created_time\": \"2021-11-29T12:52:05.650506Z\", \"created_time_dt\": \"2021-11-29T12:52:05.650506Z\", \"duration\": \"0:05:08\", \"iteration\": \"4\", \"goal\": \"normalized_root_mean_squared_error_min\", \"run_name\": \"ExponentialSmoothing\", \"run_properties\": \"\\n    timeseries_param_dict={'time_column_name': 'WeekStarting', 'grain_column_names': ['Store', 'Brand'], 'drop_column_names': [], 'overwrite_columns': True, 'dropna': False, 'transform_dictionary': {'min': '_automl_target_col', 'max': '_automl_target_col', 'mean': '_automl_target_col'}, 'max_horizon': 5, 'origin_time_colname': 'origin', 'country_or_region': 'US', 'n_cross_validations': 3, 'short_series_handling': True, 'max_cores_per_iteration': 1, 'feature_lags': 'auto', 'target_aggregation_function': None, 'cv_step_size': None, 'window_size': 'auto', 'lags': {'_automl_target_col': ['auto']}, 'seasonality': 4, 'use_stl': 'season_trend', 'freq': 'W-THU', 'short_series_handling_configuration': 'auto', 'target_lags': [0], 'target_rolling_window_size': 0, 'arimax_raw_columns': ['Advert', 'Store', 'Price', 'WeekStarting', 'Revenue', 'Brand']}\\n\", \"primary_metric\": 0.26552804, \"best_metric\": 0.26402123}, {\"run_id\": \"AutoML_ae98dd4c-0a79-4486-ac74-44480a9bc507_5\", \"run_number\": 14, \"metric\": null, \"status\": \"Completed\", \"run_type\": \"azureml.scriptrun\", \"training_percent\": \"100\", \"start_time\": \"2021-11-29T12:59:29.27536Z\", \"end_time\": \"2021-11-29T13:00:57.46738Z\", \"created_time\": \"2021-11-29T12:57:15.315515Z\", \"created_time_dt\": \"2021-11-29T12:57:15.315515Z\", \"duration\": \"0:03:42\", \"iteration\": \"5\", \"goal\": \"normalized_root_mean_squared_error_min\", \"run_name\": \"Arimax\", \"run_properties\": \"\\n    timeseries_param_dict={'time_column_name': 'WeekStarting', 'grain_column_names': ['Store', 'Brand'], 'drop_column_names': [], 'overwrite_columns': True, 'dropna': False, 'transform_dictionary': {'min': '_automl_target_col', 'max': '_automl_target_col', 'mean': '_automl_target_col'}, 'max_horizon': 5, 'origin_time_colname': 'origin', 'country_or_region': 'US', 'n_cross_validations': 3, 'short_series_handling': True, 'max_cores_per_iteration': 1, 'feature_lags': 'auto', 'target_aggregation_function': None, 'cv_step_size': None, 'window_size': 'auto', 'lags': {'_automl_target_col': ['auto']}, 'seasonality': 4, 'use_stl': 'season_trend', 'freq': 'W-THU', 'short_series_handling_configuration': 'auto', 'target_lags': [0], 'target_rolling_window_size': 0, 'arimax_raw_columns': ['Advert', 'Store', 'Price', 'WeekStarting', 'Revenue', 'Brand']}\\n\", \"primary_metric\": 0.02697719, \"best_metric\": 0.02697719}, {\"run_id\": \"AutoML_ae98dd4c-0a79-4486-ac74-44480a9bc507_6\", \"run_number\": 15, \"metric\": null, \"status\": \"Completed\", \"run_type\": \"azureml.scriptrun\", \"training_percent\": \"100\", \"start_time\": \"2021-11-29T13:00:58.417877Z\", \"end_time\": \"2021-11-29T13:02:26.676319Z\", \"created_time\": \"2021-11-29T13:00:58.417877Z\", \"created_time_dt\": \"2021-11-29T13:00:58.417877Z\", \"duration\": \"0:01:28\", \"iteration\": \"6\", \"goal\": \"normalized_root_mean_squared_error_min\", \"run_name\": \"ProphetModel\", \"run_properties\": \"\\n    timeseries_param_dict={'time_column_name': 'WeekStarting', 'grain_column_names': ['Store', 'Brand'], 'drop_column_names': [], 'overwrite_columns': True, 'dropna': False, 'transform_dictionary': {'min': '_automl_target_col', 'max': '_automl_target_col', 'mean': '_automl_target_col'}, 'max_horizon': 5, 'origin_time_colname': 'origin', 'country_or_region': 'US', 'n_cross_validations': 3, 'short_series_handling': True, 'max_cores_per_iteration': 1, 'feature_lags': 'auto', 'target_aggregation_function': None, 'cv_step_size': None, 'window_size': 'auto', 'lags': {'_automl_target_col': ['auto']}, 'seasonality': 4, 'use_stl': 'season_trend', 'freq': 'W-THU', 'short_series_handling_configuration': 'auto', 'target_lags': [0], 'target_rolling_window_size': 0, 'arimax_raw_columns': ['Advert', 'Store', 'Price', 'WeekStarting', 'Revenue', 'Brand']},\\n    prophet_param_dict={'uncertainty_samples': 0}\\n\", \"primary_metric\": 0.03231481, \"best_metric\": 0.02697719}, {\"run_id\": \"AutoML_ae98dd4c-0a79-4486-ac74-44480a9bc507_7\", \"run_number\": 16, \"metric\": null, \"status\": \"Completed\", \"run_type\": \"azureml.scriptrun\", \"training_percent\": \"100\", \"start_time\": \"2021-11-29T13:02:27.808009Z\", \"end_time\": \"2021-11-29T13:03:56.729258Z\", \"created_time\": \"2021-11-29T13:02:27.808009Z\", \"created_time_dt\": \"2021-11-29T13:02:27.808009Z\", \"duration\": \"0:01:28\", \"iteration\": \"7\", \"goal\": \"normalized_root_mean_squared_error_min\", \"run_name\": \"StandardScalerWrapper, LightGBM\", \"run_properties\": \"\\n    copy=True,\\n    with_mean=False,\\n    with_std=False\\n\", \"primary_metric\": 0.00910687, \"best_metric\": 0.00910687}, {\"run_id\": \"AutoML_ae98dd4c-0a79-4486-ac74-44480a9bc507_8\", \"run_number\": 17, \"metric\": null, \"status\": \"Completed\", \"run_type\": \"azureml.scriptrun\", \"training_percent\": \"100\", \"start_time\": \"2021-11-29T13:03:58.274052Z\", \"end_time\": \"2021-11-29T13:06:05.784765Z\", \"created_time\": \"2021-11-29T13:03:58.274052Z\", \"created_time_dt\": \"2021-11-29T13:03:58.274052Z\", \"duration\": \"0:02:07\", \"iteration\": \"8\", \"goal\": \"normalized_root_mean_squared_error_min\", \"run_name\": \"StandardScalerWrapper, XGBoostRegressor\", \"run_properties\": \"\\n    copy=True,\\n    with_mean=False,\\n    with_std=False\\n\", \"primary_metric\": 0.01388258, \"best_metric\": 0.00910687}, {\"run_id\": \"AutoML_ae98dd4c-0a79-4486-ac74-44480a9bc507_9\", \"run_number\": 18, \"metric\": null, \"status\": \"Completed\", \"run_type\": \"azureml.scriptrun\", \"training_percent\": \"100\", \"start_time\": \"2021-11-29T13:06:07.249403Z\", \"end_time\": \"2021-11-29T13:08:04.278655Z\", \"created_time\": \"2021-11-29T13:06:07.249403Z\", \"created_time_dt\": \"2021-11-29T13:06:07.249403Z\", \"duration\": \"0:01:57\", \"iteration\": \"9\", \"goal\": \"normalized_root_mean_squared_error_min\", \"run_name\": \"MaxAbsScaler, ElasticNet\", \"run_properties\": \"copy=True\", \"primary_metric\": 0.02489831, \"best_metric\": 0.00910687}, {\"run_id\": \"AutoML_ae98dd4c-0a79-4486-ac74-44480a9bc507_10\", \"run_number\": 19, \"metric\": null, \"status\": \"Completed\", \"run_type\": \"azureml.scriptrun\", \"training_percent\": \"100\", \"start_time\": \"2021-11-29T13:08:05.742777Z\", \"end_time\": \"2021-11-29T13:10:01.238014Z\", \"created_time\": \"2021-11-29T13:08:05.742777Z\", \"created_time_dt\": \"2021-11-29T13:08:05.742777Z\", \"duration\": \"0:01:55\", \"iteration\": \"10\", \"goal\": \"normalized_root_mean_squared_error_min\", \"run_name\": \"RobustScaler, ElasticNet\", \"run_properties\": \"copy=True, quantile_range=[10, 90], with_centering=True,\\n             with_scaling=False\", \"primary_metric\": 0.02373928, \"best_metric\": 0.00910687}, {\"run_id\": \"AutoML_ae98dd4c-0a79-4486-ac74-44480a9bc507_11\", \"run_number\": 20, \"metric\": null, \"status\": \"Completed\", \"run_type\": \"azureml.scriptrun\", \"training_percent\": \"100\", \"start_time\": \"2021-11-29T13:10:04.554224Z\", \"end_time\": \"2021-11-29T13:12:08.226844Z\", \"created_time\": \"2021-11-29T13:10:04.554224Z\", \"created_time_dt\": \"2021-11-29T13:10:04.554224Z\", \"duration\": \"0:02:03\", \"iteration\": \"11\", \"goal\": \"normalized_root_mean_squared_error_min\", \"run_name\": \"MinMaxScaler, ElasticNet\", \"run_properties\": \"copy=True, feature_range=(0, 1\", \"primary_metric\": 0.02376682, \"best_metric\": 0.00910687}, {\"run_id\": \"AutoML_ae98dd4c-0a79-4486-ac74-44480a9bc507_12\", \"run_number\": 21, \"metric\": null, \"status\": \"Completed\", \"run_type\": \"azureml.scriptrun\", \"training_percent\": \"100\", \"start_time\": \"2021-11-29T13:12:09.903003Z\", \"end_time\": \"2021-11-29T13:14:05.396891Z\", \"created_time\": \"2021-11-29T13:12:09.903003Z\", \"created_time_dt\": \"2021-11-29T13:12:09.903003Z\", \"duration\": \"0:01:55\", \"iteration\": \"12\", \"goal\": \"normalized_root_mean_squared_error_min\", \"run_name\": \"StandardScalerWrapper, ElasticNet\", \"run_properties\": \"\\n    copy=True,\\n    with_mean=False,\\n    with_std=True\\n\", \"primary_metric\": 0.0237321, \"best_metric\": 0.00910687}, {\"run_id\": \"AutoML_ae98dd4c-0a79-4486-ac74-44480a9bc507_13\", \"run_number\": 22, \"metric\": null, \"status\": \"Completed\", \"run_type\": \"azureml.scriptrun\", \"training_percent\": \"100\", \"start_time\": \"2021-11-29T13:14:06.835069Z\", \"end_time\": \"2021-11-29T13:16:12.020505Z\", \"created_time\": \"2021-11-29T13:14:06.835069Z\", \"created_time_dt\": \"2021-11-29T13:14:06.835069Z\", \"duration\": \"0:02:05\", \"iteration\": \"13\", \"goal\": \"normalized_root_mean_squared_error_min\", \"run_name\": \"MinMaxScaler, RandomForest\", \"run_properties\": \"copy=True, feature_range=(0, 1\", \"primary_metric\": 0.09848656, \"best_metric\": 0.00910687}, {\"run_id\": \"AutoML_ae98dd4c-0a79-4486-ac74-44480a9bc507_14\", \"run_number\": 23, \"metric\": null, \"status\": \"Completed\", \"run_type\": \"azureml.scriptrun\", \"training_percent\": \"100\", \"start_time\": \"2021-11-29T13:16:14.019427Z\", \"end_time\": \"2021-11-29T13:18:10.035394Z\", \"created_time\": \"2021-11-29T13:16:14.019427Z\", \"created_time_dt\": \"2021-11-29T13:16:14.019427Z\", \"duration\": \"0:01:56\", \"iteration\": \"14\", \"goal\": \"normalized_root_mean_squared_error_min\", \"run_name\": \"MaxAbsScaler, ElasticNet\", \"run_properties\": \"copy=True\", \"primary_metric\": 0.02396355, \"best_metric\": 0.00910687}, {\"run_id\": \"AutoML_ae98dd4c-0a79-4486-ac74-44480a9bc507_15\", \"run_number\": 24, \"metric\": null, \"status\": \"Completed\", \"run_type\": \"azureml.scriptrun\", \"training_percent\": \"100\", \"start_time\": \"2021-11-29T13:18:11.782794Z\", \"end_time\": \"2021-11-29T13:20:07.560421Z\", \"created_time\": \"2021-11-29T13:18:11.782794Z\", \"created_time_dt\": \"2021-11-29T13:18:11.782794Z\", \"duration\": \"0:01:55\", \"iteration\": \"15\", \"goal\": \"normalized_root_mean_squared_error_min\", \"run_name\": \"StandardScalerWrapper, ElasticNet\", \"run_properties\": \"\\n    copy=True,\\n    with_mean=True,\\n    with_std=False\\n\", \"primary_metric\": 0.02373175, \"best_metric\": 0.00910687}, {\"run_id\": \"AutoML_ae98dd4c-0a79-4486-ac74-44480a9bc507_16\", \"run_number\": 25, \"metric\": null, \"status\": \"Completed\", \"run_type\": \"azureml.scriptrun\", \"training_percent\": \"100\", \"start_time\": \"2021-11-29T13:20:09.000532Z\", \"end_time\": \"2021-11-29T13:22:12.5615Z\", \"created_time\": \"2021-11-29T13:20:09.000532Z\", \"created_time_dt\": \"2021-11-29T13:20:09.000532Z\", \"duration\": \"0:02:03\", \"iteration\": \"16\", \"goal\": \"normalized_root_mean_squared_error_min\", \"run_name\": \"MaxAbsScaler, ElasticNet\", \"run_properties\": \"copy=True\", \"primary_metric\": 0.02370058, \"best_metric\": 0.00910687}, {\"run_id\": \"AutoML_ae98dd4c-0a79-4486-ac74-44480a9bc507_17\", \"run_number\": 26, \"metric\": null, \"status\": \"Completed\", \"run_type\": \"azureml.scriptrun\", \"training_percent\": \"100\", \"start_time\": \"2021-11-29T13:22:13.917101Z\", \"end_time\": \"2021-11-29T13:24:10.783719Z\", \"created_time\": \"2021-11-29T13:22:13.917101Z\", \"created_time_dt\": \"2021-11-29T13:22:13.917101Z\", \"duration\": \"0:01:56\", \"iteration\": \"17\", \"goal\": \"normalized_root_mean_squared_error_min\", \"run_name\": \"StandardScalerWrapper, ElasticNet\", \"run_properties\": \"\\n    copy=True,\\n    with_mean=True,\\n    with_std=False\\n\", \"primary_metric\": 0.02371874, \"best_metric\": 0.00910687}, {\"run_id\": \"AutoML_ae98dd4c-0a79-4486-ac74-44480a9bc507_18\", \"run_number\": 27, \"metric\": null, \"status\": \"Completed\", \"run_type\": \"azureml.scriptrun\", \"training_percent\": \"100\", \"start_time\": \"2021-11-29T13:24:12.349505Z\", \"end_time\": \"2021-11-29T13:26:16.509585Z\", \"created_time\": \"2021-11-29T13:24:12.349505Z\", \"created_time_dt\": \"2021-11-29T13:24:12.349505Z\", \"duration\": \"0:02:04\", \"iteration\": \"18\", \"goal\": \"normalized_root_mean_squared_error_min\", \"run_name\": \"MinMaxScaler, ExtremeRandomTrees\", \"run_properties\": \"copy=True, feature_range=(0, 1\", \"primary_metric\": 0.04283064, \"best_metric\": 0.00910687}, {\"run_id\": \"AutoML_ae98dd4c-0a79-4486-ac74-44480a9bc507_19\", \"run_number\": 28, \"metric\": null, \"status\": \"Completed\", \"run_type\": \"azureml.scriptrun\", \"training_percent\": \"100\", \"start_time\": \"2021-11-29T13:26:18.410018Z\", \"end_time\": \"2021-11-29T13:28:13.035642Z\", \"created_time\": \"2021-11-29T13:26:18.410018Z\", \"created_time_dt\": \"2021-11-29T13:26:18.410018Z\", \"duration\": \"0:01:54\", \"iteration\": \"19\", \"goal\": \"normalized_root_mean_squared_error_min\", \"run_name\": \"MinMaxScaler, RandomForest\", \"run_properties\": \"copy=True, feature_range=(0, 1\", \"primary_metric\": 0.02438407, \"best_metric\": 0.00910687}, {\"run_id\": \"AutoML_ae98dd4c-0a79-4486-ac74-44480a9bc507_20\", \"run_number\": 29, \"metric\": null, \"status\": \"Completed\", \"run_type\": \"azureml.scriptrun\", \"training_percent\": \"100\", \"start_time\": \"2021-11-29T13:28:14.475666Z\", \"end_time\": \"2021-11-29T13:30:24.956434Z\", \"created_time\": \"2021-11-29T13:28:14.475666Z\", \"created_time_dt\": \"2021-11-29T13:28:14.475666Z\", \"duration\": \"0:02:10\", \"iteration\": \"20\", \"goal\": \"normalized_root_mean_squared_error_min\", \"run_name\": \"MinMaxScaler, ExtremeRandomTrees\", \"run_properties\": \"copy=True, feature_range=(0, 1\", \"primary_metric\": 0.06247946, \"best_metric\": 0.00910687}, {\"run_id\": \"AutoML_ae98dd4c-0a79-4486-ac74-44480a9bc507_21\", \"run_number\": 30, \"metric\": null, \"status\": \"Completed\", \"run_type\": \"azureml.scriptrun\", \"training_percent\": \"100\", \"start_time\": \"2021-11-29T13:30:26.796726Z\", \"end_time\": \"2021-11-29T13:32:14.065686Z\", \"created_time\": \"2021-11-29T13:30:26.796726Z\", \"created_time_dt\": \"2021-11-29T13:30:26.796726Z\", \"duration\": \"0:01:47\", \"iteration\": \"21\", \"goal\": \"normalized_root_mean_squared_error_min\", \"run_name\": \"MinMaxScaler, ExtremeRandomTrees\", \"run_properties\": \"copy=True, feature_range=(0, 1\", \"primary_metric\": 0.12944484, \"best_metric\": 0.00910687}, {\"run_id\": \"AutoML_ae98dd4c-0a79-4486-ac74-44480a9bc507_22\", \"run_number\": 31, \"metric\": null, \"status\": \"Completed\", \"run_type\": \"azureml.scriptrun\", \"training_percent\": \"100\", \"start_time\": \"2021-11-29T13:32:16.50167Z\", \"end_time\": \"2021-11-29T13:34:16.785322Z\", \"created_time\": \"2021-11-29T13:32:16.50167Z\", \"created_time_dt\": \"2021-11-29T13:32:16.50167Z\", \"duration\": \"0:02:00\", \"iteration\": \"22\", \"goal\": \"normalized_root_mean_squared_error_min\", \"run_name\": \"MaxAbsScaler, ExtremeRandomTrees\", \"run_properties\": \"copy=True\", \"primary_metric\": 0.02440543, \"best_metric\": 0.00910687}, {\"run_id\": \"AutoML_ae98dd4c-0a79-4486-ac74-44480a9bc507_23\", \"run_number\": 32, \"metric\": null, \"status\": \"Completed\", \"run_type\": \"azureml.scriptrun\", \"training_percent\": \"100\", \"start_time\": \"2021-11-29T13:34:18.559495Z\", \"end_time\": \"2021-11-29T13:36:14.990388Z\", \"created_time\": \"2021-11-29T13:34:18.559495Z\", \"created_time_dt\": \"2021-11-29T13:34:18.559495Z\", \"duration\": \"0:01:56\", \"iteration\": \"23\", \"goal\": \"normalized_root_mean_squared_error_min\", \"run_name\": \"MinMaxScaler, DecisionTree\", \"run_properties\": \"copy=True, feature_range=(0, 1\", \"primary_metric\": 0.06207716, \"best_metric\": 0.00910687}, {\"run_id\": \"AutoML_ae98dd4c-0a79-4486-ac74-44480a9bc507_24\", \"run_number\": 33, \"metric\": null, \"status\": \"Completed\", \"run_type\": \"azureml.scriptrun\", \"training_percent\": \"100\", \"start_time\": \"2021-11-29T13:36:16.460043Z\", \"end_time\": \"2021-11-29T13:38:20.689498Z\", \"created_time\": \"2021-11-29T13:36:16.460043Z\", \"created_time_dt\": \"2021-11-29T13:36:16.460043Z\", \"duration\": \"0:02:04\", \"iteration\": \"24\", \"goal\": \"normalized_root_mean_squared_error_min\", \"run_name\": \"RobustScaler, ExtremeRandomTrees\", \"run_properties\": \"copy=True, quantile_range=[10, 90], with_centering=False,\\n             with_scaling=False\", \"primary_metric\": 0.04060267, \"best_metric\": 0.00910687}, {\"run_id\": \"AutoML_ae98dd4c-0a79-4486-ac74-44480a9bc507_25\", \"run_number\": 34, \"metric\": null, \"status\": \"Completed\", \"run_type\": \"azureml.scriptrun\", \"training_percent\": \"100\", \"start_time\": \"2021-11-29T13:38:22.885416Z\", \"end_time\": \"2021-11-29T13:40:20.364882Z\", \"created_time\": \"2021-11-29T13:38:22.885416Z\", \"created_time_dt\": \"2021-11-29T13:38:22.885416Z\", \"duration\": \"0:01:57\", \"iteration\": \"25\", \"goal\": \"normalized_root_mean_squared_error_min\", \"run_name\": \"SparseNormalizer, LightGBM\", \"run_properties\": \"copy=True, norm='l1'\", \"primary_metric\": 0.01145092, \"best_metric\": 0.00910687}, {\"run_id\": \"AutoML_ae98dd4c-0a79-4486-ac74-44480a9bc507_26\", \"run_number\": 35, \"metric\": null, \"status\": \"Completed\", \"run_type\": \"azureml.scriptrun\", \"training_percent\": \"100\", \"start_time\": \"2021-11-29T13:40:21.921628Z\", \"end_time\": \"2021-11-29T13:42:25.901642Z\", \"created_time\": \"2021-11-29T13:40:21.921628Z\", \"created_time_dt\": \"2021-11-29T13:40:21.921628Z\", \"duration\": \"0:02:03\", \"iteration\": \"26\", \"goal\": \"normalized_root_mean_squared_error_min\", \"run_name\": \"RobustScaler, DecisionTree\", \"run_properties\": \"copy=True, quantile_range=[10, 90], with_centering=False,\\n             with_scaling=False\", \"primary_metric\": 0.05630725, \"best_metric\": 0.00910687}, {\"run_id\": \"AutoML_ae98dd4c-0a79-4486-ac74-44480a9bc507_27\", \"run_number\": 36, \"metric\": null, \"status\": \"Canceled\", \"run_type\": \"azureml.scriptrun\", \"training_percent\": \"100\", \"start_time\": \"2021-11-29T13:42:27.941864Z\", \"end_time\": \"2021-11-29T13:44:21.832531Z\", \"created_time\": \"2021-11-29T13:42:27.941864Z\", \"created_time_dt\": \"2021-11-29T13:42:27.941864Z\", \"duration\": \"0:01:53\", \"iteration\": \"27\", \"goal\": \"normalized_root_mean_squared_error_min\", \"run_name\": \"MaxAbsScaler, LightGBM\", \"run_properties\": \"copy=True\", \"primary_metric\": 0.01266887, \"best_metric\": 0.00910687}, {\"run_id\": \"AutoML_ae98dd4c-0a79-4486-ac74-44480a9bc507_28\", \"run_number\": 37, \"metric\": null, \"status\": \"Completed\", \"run_type\": \"azureml.scriptrun\", \"training_percent\": \"100\", \"start_time\": \"2021-11-29T13:44:22.802359Z\", \"end_time\": \"2021-11-29T13:45:17.146495Z\", \"created_time\": \"2021-11-29T13:44:22.802359Z\", \"created_time_dt\": \"2021-11-29T13:44:22.802359Z\", \"duration\": \"0:00:54\", \"iteration\": \"28\", \"goal\": \"normalized_root_mean_squared_error_min\", \"run_name\": \"VotingEnsemble\", \"run_properties\": \"\\n    estimators=[('7', Pipeline(\\n        memory=None,\\n        steps=[('standardscalerwrapper', StandardScalerWrapper(\\n            copy=True,\\n            with_mean=False,\\n            with_std=False\\n        \", \"primary_metric\": 0.00691581, \"best_metric\": 0.00691581}], \"children_metrics\": {\"categories\": [0], \"series\": {\"normalized_root_mean_squared_log_error\": [{\"categories\": [\"0\", \"1\", \"2\", \"3\", \"4\", \"5\", \"6\", \"7\", \"8\", \"9\", \"10\", \"11\", \"12\", \"13\", \"14\", \"15\", \"16\", \"17\", \"18\", \"19\", \"20\", \"21\", \"22\", \"23\", \"24\", \"25\", \"26\", \"27\", \"28\"], \"mode\": \"markers\", \"name\": \"normalized_root_mean_squared_log_error\", \"stepped\": false, \"type\": \"scatter\", \"data\": [0.38975188654834225, 0.3859283522345973, 0.2660961037745487, 0.28999324336447924, 0.2678544075520814, 0.028983153330665177, 0.03493750517770663, 0.008746417770380993, 0.013717920060153413, 0.025621672097417156, 0.025335920875865708, 0.025796720302359927, 0.025845451117165227, 0.1021553320615138, 0.02530904567482356, 0.025852101787186804, 0.02582175726352338, 0.0256626825854683, 0.04593639734439977, 0.023932003542118403, 0.0663929743301675, 0.13522121820180436, 0.024799308275007162, 0.06123949367511542, 0.04134424258245301, 0.012288117525663044, 0.05505781365970284, 0.0126104681340362, 0.006755734349603371]}, {\"categories\": [\"0\", \"1\", \"2\", \"3\", \"4\", \"5\", \"6\", \"7\", \"8\", \"9\", \"10\", \"11\", \"12\", \"13\", \"14\", \"15\", \"16\", \"17\", \"18\", \"19\", \"20\", \"21\", \"22\", \"23\", \"24\", \"25\", \"26\", \"27\", \"28\"], \"mode\": \"lines\", \"name\": \"normalized_root_mean_squared_log_error_min\", \"stepped\": true, \"type\": \"scatter\", \"data\": [0.38975188654834225, 0.3859283522345973, 0.2660961037745487, 0.2660961037745487, 0.2660961037745487, 0.028983153330665177, 0.028983153330665177, 0.008746417770380993, 0.008746417770380993, 0.008746417770380993, 0.008746417770380993, 0.008746417770380993, 0.008746417770380993, 0.008746417770380993, 0.008746417770380993, 0.008746417770380993, 0.008746417770380993, 0.008746417770380993, 0.008746417770380993, 0.008746417770380993, 0.008746417770380993, 0.008746417770380993, 0.008746417770380993, 0.008746417770380993, 0.008746417770380993, 0.008746417770380993, 0.008746417770380993, 0.008746417770380993, 0.006755734349603371]}], \"spearman_correlation\": [{\"categories\": [\"0\", \"1\", \"2\", \"3\", \"4\", \"5\", \"6\", \"7\", \"8\", \"9\", \"10\", \"11\", \"12\", \"13\", \"14\", \"15\", \"16\", \"17\", \"18\", \"19\", \"20\", \"21\", \"22\", \"23\", \"24\", \"25\", \"26\", \"27\", \"28\"], \"mode\": \"markers\", \"name\": \"spearman_correlation\", \"stepped\": false, \"type\": \"scatter\", \"data\": [-0.06462405786513, 0.024021843538212365, 0.1629719810679975, 0.051667204614823485, 0.11988173209554986, 0.9938273827382736, 0.9922592259225921, 0.9988038803880386, 0.998023802380238, 0.9954755475547553, 0.9954675467546753, 0.9955115511551154, 0.9954995499549953, 0.9432223222322231, 0.9955315531553155, 0.9954755475547553, 0.9954755475547553, 0.9956155615561556, 0.9895549554955494, 0.9945634563456345, 0.9828222822282227, 0.9458185818581857, 0.994287428742874, 0.966323168837588, 0.9887988577344586, 0.9980078007800778, 0.9733430855366562, 0.9979197919791978, 0.9992839283928392]}, {\"categories\": [\"0\", \"1\", \"2\", \"3\", \"4\", \"5\", \"6\", \"7\", \"8\", \"9\", \"10\", \"11\", \"12\", \"13\", \"14\", \"15\", \"16\", \"17\", \"18\", \"19\", \"20\", \"21\", \"22\", \"23\", \"24\", \"25\", \"26\", \"27\", \"28\"], \"mode\": \"lines\", \"name\": \"spearman_correlation_max\", \"stepped\": true, \"type\": \"scatter\", \"data\": [-0.06462405786513, 0.024021843538212365, 0.1629719810679975, 0.1629719810679975, 0.1629719810679975, 0.9938273827382736, 0.9938273827382736, 0.9988038803880386, 0.9988038803880386, 0.9988038803880386, 0.9988038803880386, 0.9988038803880386, 0.9988038803880386, 0.9988038803880386, 0.9988038803880386, 0.9988038803880386, 0.9988038803880386, 0.9988038803880386, 0.9988038803880386, 0.9988038803880386, 0.9988038803880386, 0.9988038803880386, 0.9988038803880386, 0.9988038803880386, 0.9988038803880386, 0.9988038803880386, 0.9988038803880386, 0.9988038803880386, 0.9992839283928392]}], \"median_absolute_error\": [{\"categories\": [\"0\", \"1\", \"2\", \"3\", \"4\", \"5\", \"6\", \"7\", \"8\", \"9\", \"10\", \"11\", \"12\", \"13\", \"14\", \"15\", \"16\", \"17\", \"18\", \"19\", \"20\", \"21\", \"22\", \"23\", \"24\", \"25\", \"26\", \"27\", \"28\"], \"mode\": \"markers\", \"name\": \"median_absolute_error\", \"stepped\": false, \"type\": \"scatter\", \"data\": [3402.3333333333335, 3232.3333333333335, 2457.505548103142, 2371.625, 2431.474896169555, 199.21514311899287, 214.40008009117992, 63.70600884288797, 95.67220052083333, 142.47324868459964, 145.4270560925297, 152.0049241782317, 153.28953436228312, 789.3871088542534, 148.30511137988955, 153.69276112608654, 152.6456663749826, 150.41600384453736, 319.60722709766895, 181.73150842466748, 550.914965068715, 1178.0108685608757, 173.04398448773372, 541.6058487350277, 299.65949195679514, 70.56851556098202, 484.1910287872458, 86.6127776390161, 46.282167422634]}, {\"categories\": [\"0\", \"1\", \"2\", \"3\", \"4\", \"5\", \"6\", \"7\", \"8\", \"9\", \"10\", \"11\", \"12\", \"13\", \"14\", \"15\", \"16\", \"17\", \"18\", \"19\", \"20\", \"21\", \"22\", \"23\", \"24\", \"25\", \"26\", \"27\", \"28\"], \"mode\": \"lines\", \"name\": \"median_absolute_error_min\", \"stepped\": true, \"type\": \"scatter\", \"data\": [3402.3333333333335, 3232.3333333333335, 2457.505548103142, 2371.625, 2371.625, 199.21514311899287, 199.21514311899287, 63.70600884288797, 63.70600884288797, 63.70600884288797, 63.70600884288797, 63.70600884288797, 63.70600884288797, 63.70600884288797, 63.70600884288797, 63.70600884288797, 63.70600884288797, 63.70600884288797, 63.70600884288797, 63.70600884288797, 63.70600884288797, 63.70600884288797, 63.70600884288797, 63.70600884288797, 63.70600884288797, 63.70600884288797, 63.70600884288797, 63.70600884288797, 46.282167422634]}], \"normalized_median_absolute_error\": [{\"categories\": [\"0\", \"1\", \"2\", \"3\", \"4\", \"5\", \"6\", \"7\", \"8\", \"9\", \"10\", \"11\", \"12\", \"13\", \"14\", \"15\", \"16\", \"17\", \"18\", \"19\", \"20\", \"21\", \"22\", \"23\", \"24\", \"25\", \"26\", \"27\", \"28\"], \"mode\": \"markers\", \"name\": \"normalized_median_absolute_error\", \"stepped\": false, \"type\": \"scatter\", \"data\": [0.33047171216410426, 0.3076830214293972, 0.23053681891892577, 0.24374975894609344, 0.23318669878559173, 0.019010334773556695, 0.024655478570825912, 0.006038605241534868, 0.008985364719340666, 0.016575091503715233, 0.01631965083036702, 0.016302620004614975, 0.016097157444194054, 0.0767482408019443, 0.01666104535909459, 0.016075420999009913, 0.016039072720971968, 0.016174118248824483, 0.031129198540742028, 0.01832240126516757, 0.05198646434566947, 0.11166026358211945, 0.016236139256918043, 0.052713616227342976, 0.030387124513672686, 0.00800251495590234, 0.04497358984443953, 0.009002210360566023, 0.004575148330575051]}, {\"categories\": [\"0\", \"1\", \"2\", \"3\", \"4\", \"5\", \"6\", \"7\", \"8\", \"9\", \"10\", \"11\", \"12\", \"13\", \"14\", \"15\", \"16\", \"17\", \"18\", \"19\", \"20\", \"21\", \"22\", \"23\", \"24\", \"25\", \"26\", \"27\", \"28\"], \"mode\": \"lines\", \"name\": \"normalized_median_absolute_error_min\", \"stepped\": true, \"type\": \"scatter\", \"data\": [0.33047171216410426, 0.3076830214293972, 0.23053681891892577, 0.23053681891892577, 0.23053681891892577, 0.019010334773556695, 0.019010334773556695, 0.006038605241534868, 0.006038605241534868, 0.006038605241534868, 0.006038605241534868, 0.006038605241534868, 0.006038605241534868, 0.006038605241534868, 0.006038605241534868, 0.006038605241534868, 0.006038605241534868, 0.006038605241534868, 0.006038605241534868, 0.006038605241534868, 0.006038605241534868, 0.006038605241534868, 0.006038605241534868, 0.006038605241534868, 0.006038605241534868, 0.006038605241534868, 0.006038605241534868, 0.006038605241534868, 0.004575148330575051]}], \"mean_absolute_percentage_error\": [{\"categories\": [\"0\", \"1\", \"2\", \"3\", \"4\", \"5\", \"6\", \"7\", \"8\", \"9\", \"10\", \"11\", \"12\", \"13\", \"14\", \"15\", \"16\", \"17\", \"18\", \"19\", \"20\", \"21\", \"22\", \"23\", \"24\", \"25\", \"26\", \"27\", \"28\"], \"mode\": \"markers\", \"name\": \"mean_absolute_percentage_error\", \"stepped\": false, \"type\": \"scatter\", \"data\": [27.854922413476434, 27.63124138661216, 18.949089438106416, 20.754914296238884, 19.118262646723405, 1.8387340405588193, 2.2704514483444735, 0.5568135191114028, 0.8751684732528148, 1.6017118292151142, 1.5743641572621536, 1.593611557073143, 1.595015960424137, 6.839847189540639, 1.5730538350687484, 1.5952021087770438, 1.5934790250156656, 1.58737370045763, 2.9505015128956793, 1.5750243487578202, 4.426274431087804, 9.342376931393405, 1.5876800644279927, 4.209462089866275, 2.692293064423078, 0.7717645576125157, 3.7360835203503306, 0.8191777354072931, 0.42637890793795225]}, {\"categories\": [\"0\", \"1\", \"2\", \"3\", \"4\", \"5\", \"6\", \"7\", \"8\", \"9\", \"10\", \"11\", \"12\", \"13\", \"14\", \"15\", \"16\", \"17\", \"18\", \"19\", \"20\", \"21\", \"22\", \"23\", \"24\", \"25\", \"26\", \"27\", \"28\"], \"mode\": \"lines\", \"name\": \"mean_absolute_percentage_error_min\", \"stepped\": true, \"type\": \"scatter\", \"data\": [27.854922413476434, 27.63124138661216, 18.949089438106416, 18.949089438106416, 18.949089438106416, 1.8387340405588193, 1.8387340405588193, 0.5568135191114028, 0.5568135191114028, 0.5568135191114028, 0.5568135191114028, 0.5568135191114028, 0.5568135191114028, 0.5568135191114028, 0.5568135191114028, 0.5568135191114028, 0.5568135191114028, 0.5568135191114028, 0.5568135191114028, 0.5568135191114028, 0.5568135191114028, 0.5568135191114028, 0.5568135191114028, 0.5568135191114028, 0.5568135191114028, 0.5568135191114028, 0.5568135191114028, 0.5568135191114028, 0.42637890793795225]}], \"explained_variance\": [{\"categories\": [\"0\", \"1\", \"2\", \"3\", \"4\", \"5\", \"6\", \"7\", \"8\", \"9\", \"10\", \"11\", \"12\", \"13\", \"14\", \"15\", \"16\", \"17\", \"18\", \"19\", \"20\", \"21\", \"22\", \"23\", \"24\", \"25\", \"26\", \"27\", \"28\"], \"mode\": \"markers\", \"name\": \"explained_variance\", \"stepped\": false, \"type\": \"scatter\", \"data\": [-1.2943356546607223, -1.1640763805668357, 0.022106160565992388, -0.1924147751229807, 0.010757454124671514, 0.9884387839976374, 0.9836007330126626, 0.99874643324128, 0.9971467454689398, 0.9898596760301824, 0.9907455745603566, 0.9906486967925151, 0.9906987256305572, 0.8620114805289242, 0.9905018246052774, 0.99070006447142, 0.9906998592535036, 0.9907279491486044, 0.9719600334328837, 0.9913163078920025, 0.9441493554820298, 0.7647233803073906, 0.9909513346680617, 0.9453447562927065, 0.976307819600391, 0.9975859369692667, 0.9544548027011869, 0.9973467814339815, 0.9992184114178574]}, {\"categories\": [\"0\", \"1\", \"2\", \"3\", \"4\", \"5\", \"6\", \"7\", \"8\", \"9\", \"10\", \"11\", \"12\", \"13\", \"14\", \"15\", \"16\", \"17\", \"18\", \"19\", \"20\", \"21\", \"22\", \"23\", \"24\", \"25\", \"26\", \"27\", \"28\"], \"mode\": \"lines\", \"name\": \"explained_variance_max\", \"stepped\": true, \"type\": \"scatter\", \"data\": [-1.2943356546607223, -1.1640763805668357, 0.022106160565992388, 0.022106160565992388, 0.022106160565992388, 0.9884387839976374, 0.9884387839976374, 0.99874643324128, 0.99874643324128, 0.99874643324128, 0.99874643324128, 0.99874643324128, 0.99874643324128, 0.99874643324128, 0.99874643324128, 0.99874643324128, 0.99874643324128, 0.99874643324128, 0.99874643324128, 0.99874643324128, 0.99874643324128, 0.99874643324128, 0.99874643324128, 0.99874643324128, 0.99874643324128, 0.99874643324128, 0.99874643324128, 0.99874643324128, 0.9992184114178574]}], \"r2_score\": [{\"categories\": [\"0\", \"1\", \"2\", \"3\", \"4\", \"5\", \"6\", \"7\", \"8\", \"9\", \"10\", \"11\", \"12\", \"13\", \"14\", \"15\", \"16\", \"17\", \"18\", \"19\", \"20\", \"21\", \"22\", \"23\", \"24\", \"25\", \"26\", \"27\", \"28\"], \"mode\": \"markers\", \"name\": \"r2_score\", \"stepped\": false, \"type\": \"scatter\", \"data\": [-1.0, -0.937368525132276, 0.006526165373401523, -0.2196153831385955, -0.007733479297591717, 0.9883685457253474, 0.9829084633237065, 0.9987463152101711, 0.9970933249007273, 0.9897897852892603, 0.9907060436632591, 0.9906097167729677, 0.9906639873655929, 0.8583806348432228, 0.9904576031989913, 0.9906655645779942, 0.9906744420039479, 0.9906917945375632, 0.9711458103622186, 0.9909185404765601, 0.9417751411109707, 0.7597139445749465, 0.9905628875520852, 0.944988182977876, 0.9756935971446253, 0.9975723504578878, 0.9538418503275854, 0.9973059666301097, 0.9992153197793012]}, {\"categories\": [\"0\", \"1\", \"2\", \"3\", \"4\", \"5\", \"6\", \"7\", \"8\", \"9\", \"10\", \"11\", \"12\", \"13\", \"14\", \"15\", \"16\", \"17\", \"18\", \"19\", \"20\", \"21\", \"22\", \"23\", \"24\", \"25\", \"26\", \"27\", \"28\"], \"mode\": \"lines\", \"name\": \"r2_score_max\", \"stepped\": true, \"type\": \"scatter\", \"data\": [-1.0, -0.937368525132276, 0.006526165373401523, 0.006526165373401523, 0.006526165373401523, 0.9883685457253474, 0.9883685457253474, 0.9987463152101711, 0.9987463152101711, 0.9987463152101711, 0.9987463152101711, 0.9987463152101711, 0.9987463152101711, 0.9987463152101711, 0.9987463152101711, 0.9987463152101711, 0.9987463152101711, 0.9987463152101711, 0.9987463152101711, 0.9987463152101711, 0.9987463152101711, 0.9987463152101711, 0.9987463152101711, 0.9987463152101711, 0.9987463152101711, 0.9987463152101711, 0.9987463152101711, 0.9987463152101711, 0.9992153197793012]}], \"root_mean_squared_error\": [{\"categories\": [\"0\", \"1\", \"2\", \"3\", \"4\", \"5\", \"6\", \"7\", \"8\", \"9\", \"10\", \"11\", \"12\", \"13\", \"14\", \"15\", \"16\", \"17\", \"18\", \"19\", \"20\", \"21\", \"22\", \"23\", \"24\", \"25\", \"26\", \"27\", \"28\"], \"mode\": \"markers\", \"name\": \"root_mean_squared_error\", \"stepped\": false, \"type\": \"scatter\", \"data\": [4506.004321961408, 4354.546635037822, 2942.3269441895777, 3256.00133095317, 2963.3974711774354, 318.46930221076497, 385.1154410371599, 104.34608223802759, 159.06130123657223, 298.2705314183042, 284.4689359532651, 285.8545035253826, 285.0170292109855, 1111.1220448871793, 288.2706643861948, 284.9919059784648, 284.85022084414777, 284.625769917107, 500.39146617981834, 281.4207389903149, 709.7114835377371, 1447.2339421731042, 281.7075324537211, 690.9624507926582, 459.28313277107344, 145.27717934647603, 633.1653804208779, 153.17044652995074, 82.63596144102935]}, {\"categories\": [\"0\", \"1\", \"2\", \"3\", \"4\", \"5\", \"6\", \"7\", \"8\", \"9\", \"10\", \"11\", \"12\", \"13\", \"14\", \"15\", \"16\", \"17\", \"18\", \"19\", \"20\", \"21\", \"22\", \"23\", \"24\", \"25\", \"26\", \"27\", \"28\"], \"mode\": \"lines\", \"name\": \"root_mean_squared_error_min\", \"stepped\": true, \"type\": \"scatter\", \"data\": [4506.004321961408, 4354.546635037822, 2942.3269441895777, 2942.3269441895777, 2942.3269441895777, 318.46930221076497, 318.46930221076497, 104.34608223802759, 104.34608223802759, 104.34608223802759, 104.34608223802759, 104.34608223802759, 104.34608223802759, 104.34608223802759, 104.34608223802759, 104.34608223802759, 104.34608223802759, 104.34608223802759, 104.34608223802759, 104.34608223802759, 104.34608223802759, 104.34608223802759, 104.34608223802759, 104.34608223802759, 104.34608223802759, 104.34608223802759, 104.34608223802759, 104.34608223802759, 82.63596144102935]}], \"mean_absolute_error\": [{\"categories\": [\"0\", \"1\", \"2\", \"3\", \"4\", \"5\", \"6\", \"7\", \"8\", \"9\", \"10\", \"11\", \"12\", \"13\", \"14\", \"15\", \"16\", \"17\", \"18\", \"19\", \"20\", \"21\", \"22\", \"23\", \"24\", \"25\", \"26\", \"27\", \"28\"], \"mode\": \"markers\", \"name\": \"mean_absolute_error\", \"stepped\": false, \"type\": \"scatter\", \"data\": [3693.486666666666, 3606.213333333333, 2466.25635523028, 2664.2991666666667, 2476.5238960048796, 242.94523575967673, 296.4353493177429, 78.92363863221938, 121.34058919270835, 216.18298207966748, 207.2504892070754, 207.22407382986827, 207.05222556651924, 904.1921779882146, 208.48688971591514, 207.0443180691208, 206.7806073928318, 206.99873537419623, 387.31802787580096, 220.67121660670128, 584.5475161742412, 1223.8163794540517, 216.74082182854204, 586.8775646789996, 365.89560181971774, 101.38521471460199, 524.3436083171382, 113.36001091948208, 59.547598061296505]}, {\"categories\": [\"0\", \"1\", \"2\", \"3\", \"4\", \"5\", \"6\", \"7\", \"8\", \"9\", \"10\", \"11\", \"12\", \"13\", \"14\", \"15\", \"16\", \"17\", \"18\", \"19\", \"20\", \"21\", \"22\", \"23\", \"24\", \"25\", \"26\", \"27\", \"28\"], \"mode\": \"lines\", \"name\": \"mean_absolute_error_min\", \"stepped\": true, \"type\": \"scatter\", \"data\": [3693.486666666666, 3606.213333333333, 2466.25635523028, 2466.25635523028, 2466.25635523028, 242.94523575967673, 242.94523575967673, 78.92363863221938, 78.92363863221938, 78.92363863221938, 78.92363863221938, 78.92363863221938, 78.92363863221938, 78.92363863221938, 78.92363863221938, 78.92363863221938, 78.92363863221938, 78.92363863221938, 78.92363863221938, 78.92363863221938, 78.92363863221938, 78.92363863221938, 78.92363863221938, 78.92363863221938, 78.92363863221938, 78.92363863221938, 78.92363863221938, 78.92363863221938, 59.547598061296505]}], \"normalized_root_mean_squared_error\": [{\"categories\": [\"0\", \"1\", \"2\", \"3\", \"4\", \"5\", \"6\", \"7\", \"8\", \"9\", \"10\", \"11\", \"12\", \"13\", \"14\", \"15\", \"16\", \"17\", \"18\", \"19\", \"20\", \"21\", \"22\", \"23\", \"24\", \"25\", \"26\", \"27\", \"28\"], \"mode\": \"markers\", \"name\": \"normalized_root_mean_squared_error\", \"stepped\": false, \"type\": \"scatter\", \"data\": [0.39140554544008976, 0.38476892972346294, 0.2640212341262188, 0.28866706101255385, 0.2655280356517264, 0.026977193583455805, 0.03231480548332686, 0.009106871070448747, 0.013882583508237881, 0.024898312147146485, 0.02373927891495188, 0.023766816202756096, 0.023732096584976974, 0.09848655673868416, 0.023963552640923428, 0.023731754304307306, 0.023700575051269268, 0.023718741541830787, 0.042830637561794706, 0.024384066948599372, 0.0624794581700285, 0.12944484140184234, 0.02440542603055966, 0.062077159867033486, 0.04060266761877029, 0.01145091973230281, 0.056307252613747256, 0.012668872382312762, 0.00691581124750132]}, {\"categories\": [\"0\", \"1\", \"2\", \"3\", \"4\", \"5\", \"6\", \"7\", \"8\", \"9\", \"10\", \"11\", \"12\", \"13\", \"14\", \"15\", \"16\", \"17\", \"18\", \"19\", \"20\", \"21\", \"22\", \"23\", \"24\", \"25\", \"26\", \"27\", \"28\"], \"mode\": \"lines\", \"name\": \"normalized_root_mean_squared_error_min\", \"stepped\": true, \"type\": \"scatter\", \"data\": [0.39140554544008976, 0.38476892972346294, 0.2640212341262188, 0.2640212341262188, 0.2640212341262188, 0.026977193583455805, 0.026977193583455805, 0.009106871070448747, 0.009106871070448747, 0.009106871070448747, 0.009106871070448747, 0.009106871070448747, 0.009106871070448747, 0.009106871070448747, 0.009106871070448747, 0.009106871070448747, 0.009106871070448747, 0.009106871070448747, 0.009106871070448747, 0.009106871070448747, 0.009106871070448747, 0.009106871070448747, 0.009106871070448747, 0.009106871070448747, 0.009106871070448747, 0.009106871070448747, 0.009106871070448747, 0.009106871070448747, 0.00691581124750132]}], \"root_mean_squared_log_error\": [{\"categories\": [\"0\", \"1\", \"2\", \"3\", \"4\", \"5\", \"6\", \"7\", \"8\", \"9\", \"10\", \"11\", \"12\", \"13\", \"14\", \"15\", \"16\", \"17\", \"18\", \"19\", \"20\", \"21\", \"22\", \"23\", \"24\", \"25\", \"26\", \"27\", \"28\"], \"mode\": \"markers\", \"name\": \"root_mean_squared_log_error\", \"stepped\": false, \"type\": \"scatter\", \"data\": [0.3256593343022374, 0.3170762155147004, 0.21664990020835462, 0.23871858623945244, 0.2185839228719989, 0.025810298456959025, 0.031341416679800733, 0.007257469314242218, 0.011287887467739557, 0.023351746015172176, 0.02304215759837272, 0.023629525197728842, 0.02361402393719725, 0.08414432380936399, 0.02317230904241273, 0.023617192115461396, 0.023608774734428406, 0.0234104039649075, 0.03941061898527228, 0.01987237820597271, 0.05516752745694944, 0.11088824051054642, 0.020792003431264323, 0.049616266069920416, 0.03421955742155919, 0.011721934879449858, 0.04451304953988774, 0.011044752054366095, 0.0059589713115481314]}, {\"categories\": [\"0\", \"1\", \"2\", \"3\", \"4\", \"5\", \"6\", \"7\", \"8\", \"9\", \"10\", \"11\", \"12\", \"13\", \"14\", \"15\", \"16\", \"17\", \"18\", \"19\", \"20\", \"21\", \"22\", \"23\", \"24\", \"25\", \"26\", \"27\", \"28\"], \"mode\": \"lines\", \"name\": \"root_mean_squared_log_error_min\", \"stepped\": true, \"type\": \"scatter\", \"data\": [0.3256593343022374, 0.3170762155147004, 0.21664990020835462, 0.21664990020835462, 0.21664990020835462, 0.025810298456959025, 0.025810298456959025, 0.007257469314242218, 0.007257469314242218, 0.007257469314242218, 0.007257469314242218, 0.007257469314242218, 0.007257469314242218, 0.007257469314242218, 0.007257469314242218, 0.007257469314242218, 0.007257469314242218, 0.007257469314242218, 0.007257469314242218, 0.007257469314242218, 0.007257469314242218, 0.007257469314242218, 0.007257469314242218, 0.007257469314242218, 0.007257469314242218, 0.007257469314242218, 0.007257469314242218, 0.007257469314242218, 0.0059589713115481314]}], \"normalized_mean_absolute_error\": [{\"categories\": [\"0\", \"1\", \"2\", \"3\", \"4\", \"5\", \"6\", \"7\", \"8\", \"9\", \"10\", \"11\", \"12\", \"13\", \"14\", \"15\", \"16\", \"17\", \"18\", \"19\", \"20\", \"21\", \"22\", \"23\", \"24\", \"25\", \"26\", \"27\", \"28\"], \"mode\": \"markers\", \"name\": \"normalized_mean_absolute_error\", \"stepped\": false, \"type\": \"scatter\", \"data\": [0.3407814347664427, 0.3324296607477915, 0.2272102006369677, 0.24549471504573436, 0.2281664702110853, 0.022370672141427572, 0.027265212593720722, 0.007278836359303359, 0.011178178703608354, 0.01989769075817307, 0.019080605926430235, 0.019079521007216427, 0.019063606670533847, 0.08330966821536052, 0.01919357473753733, 0.019062877841767755, 0.019038593565417806, 0.019058261842344198, 0.03568494261033004, 0.020365325767547907, 0.05387084568925824, 0.11274896786895723, 0.01996523888598962, 0.054122118510046786, 0.03374517643650481, 0.009326957630009037, 0.04833672756442972, 0.010441842432194093, 0.005487881605986862]}, {\"categories\": [\"0\", \"1\", \"2\", \"3\", \"4\", \"5\", \"6\", \"7\", \"8\", \"9\", \"10\", \"11\", \"12\", \"13\", \"14\", \"15\", \"16\", \"17\", \"18\", \"19\", \"20\", \"21\", \"22\", \"23\", \"24\", \"25\", \"26\", \"27\", \"28\"], \"mode\": \"lines\", \"name\": \"normalized_mean_absolute_error_min\", \"stepped\": true, \"type\": \"scatter\", \"data\": [0.3407814347664427, 0.3324296607477915, 0.2272102006369677, 0.2272102006369677, 0.2272102006369677, 0.022370672141427572, 0.022370672141427572, 0.007278836359303359, 0.007278836359303359, 0.007278836359303359, 0.007278836359303359, 0.007278836359303359, 0.007278836359303359, 0.007278836359303359, 0.007278836359303359, 0.007278836359303359, 0.007278836359303359, 0.007278836359303359, 0.007278836359303359, 0.007278836359303359, 0.007278836359303359, 0.007278836359303359, 0.007278836359303359, 0.007278836359303359, 0.007278836359303359, 0.007278836359303359, 0.007278836359303359, 0.007278836359303359, 0.005487881605986862]}]}, \"metricName\": null, \"primaryMetricName\": \"normalized_root_mean_squared_error\", \"showLegend\": false}, \"run_metrics\": [{\"name\": \"experiment_status\", \"run_id\": \"AutoML_ae98dd4c-0a79-4486-ac74-44480a9bc507\", \"categories\": [0, 1, 2, 3, 4, 5, 6, 7, 8, 9], \"series\": [{\"data\": [\"DatasetFeaturization\", \"DatasetFeaturizationCompleted\", \"DatasetCrossValidationSplit\", \"DatasetFeaturization\", \"DatasetFeaturizationCompleted\", \"DatasetFeaturization\", \"DatasetFeaturizationCompleted\", \"DatasetFeaturization\", \"DatasetFeaturizationCompleted\", \"ModelSelection\"]}]}, {\"name\": \"experiment_status_description\", \"run_id\": \"AutoML_ae98dd4c-0a79-4486-ac74-44480a9bc507\", \"categories\": [0, 1, 2, 3, 4, 5, 6, 7, 8, 9], \"series\": [{\"data\": [\"Beginning to featurize the dataset.\", \"Completed featurizing the dataset.\", \"Generating individually featurized CV splits.\", \"Beginning to featurize the CV split.\", \"Completed featurizing the CV split.\", \"Beginning to featurize the CV split.\", \"Completed featurizing the CV split.\", \"Beginning to featurize the CV split.\", \"Completed featurizing the CV split.\", \"Beginning model selection.\"]}]}, {\"name\": \"normalized_root_mean_squared_log_error\", \"run_id\": \"AutoML_ae98dd4c-0a79-4486-ac74-44480a9bc507\", \"categories\": [0], \"series\": [{\"data\": [0.006755734349603371]}]}, {\"name\": \"explained_variance\", \"run_id\": \"AutoML_ae98dd4c-0a79-4486-ac74-44480a9bc507\", \"categories\": [0], \"series\": [{\"data\": [0.9992184114178574]}]}, {\"name\": \"mean_absolute_percentage_error\", \"run_id\": \"AutoML_ae98dd4c-0a79-4486-ac74-44480a9bc507\", \"categories\": [0], \"series\": [{\"data\": [0.42637890793795225]}]}, {\"name\": \"normalized_root_mean_squared_error\", \"run_id\": \"AutoML_ae98dd4c-0a79-4486-ac74-44480a9bc507\", \"categories\": [0], \"series\": [{\"data\": [0.00691581124750132]}]}, {\"name\": \"spearman_correlation\", \"run_id\": \"AutoML_ae98dd4c-0a79-4486-ac74-44480a9bc507\", \"categories\": [0], \"series\": [{\"data\": [0.9992839283928392]}]}, {\"name\": \"r2_score\", \"run_id\": \"AutoML_ae98dd4c-0a79-4486-ac74-44480a9bc507\", \"categories\": [0], \"series\": [{\"data\": [0.9992153197793012]}]}, {\"name\": \"normalized_mean_absolute_error\", \"run_id\": \"AutoML_ae98dd4c-0a79-4486-ac74-44480a9bc507\", \"categories\": [0], \"series\": [{\"data\": [0.005487881605986862]}]}, {\"name\": \"median_absolute_error\", \"run_id\": \"AutoML_ae98dd4c-0a79-4486-ac74-44480a9bc507\", \"categories\": [0], \"series\": [{\"data\": [46.282167422634]}]}, {\"name\": \"root_mean_squared_log_error\", \"run_id\": \"AutoML_ae98dd4c-0a79-4486-ac74-44480a9bc507\", \"categories\": [0], \"series\": [{\"data\": [0.0059589713115481314]}]}, {\"name\": \"root_mean_squared_error\", \"run_id\": \"AutoML_ae98dd4c-0a79-4486-ac74-44480a9bc507\", \"categories\": [0], \"series\": [{\"data\": [82.63596144102935]}]}, {\"name\": \"normalized_median_absolute_error\", \"run_id\": \"AutoML_ae98dd4c-0a79-4486-ac74-44480a9bc507\", \"categories\": [0], \"series\": [{\"data\": [0.004575148330575051]}]}, {\"name\": \"mean_absolute_error\", \"run_id\": \"AutoML_ae98dd4c-0a79-4486-ac74-44480a9bc507\", \"categories\": [0], \"series\": [{\"data\": [59.547598061296505]}]}], \"run_logs\": \"\\nRun is completed.\", \"graph\": {}, \"widget_settings\": {\"childWidgetDisplay\": \"popup\", \"send_telemetry\": false, \"log_level\": \"INFO\", \"sdk_version\": \"1.34.0\"}, \"loading\": false}"
     },
     "metadata": {},
     "output_type": "display_data"
    }
   ],
   "source": [
    "# Train the AutoML model to forecast Oranje Juice Sales\n",
    "remote_run = exp.submit(config, show_output = True)\n",
    "RunDetails(remote_run).show()"
   ]
  },
  {
   "cell_type": "markdown",
   "id": "23abc892",
   "metadata": {},
   "source": [
    "# Model Registration"
   ]
  },
  {
   "cell_type": "code",
   "execution_count": 23,
   "id": "4cbe3e82",
   "metadata": {},
   "outputs": [],
   "source": [
    "description = 'First Time series forecasting Model by Azure AutoML' \n",
    "model_name = 'OJ-Sales-Sample-Forecasting-AutoML'"
   ]
  },
  {
   "cell_type": "code",
   "execution_count": 58,
   "id": "cefcd14c",
   "metadata": {},
   "outputs": [
    {
     "ename": "AttributeError",
     "evalue": "'AutoMLRun' object has no attribute 'deplpoy'",
     "output_type": "error",
     "traceback": [
      "\u001b[0;31m---------------------------------------------------------------------------\u001b[0m",
      "\u001b[0;31mAttributeError\u001b[0m                            Traceback (most recent call last)",
      "\u001b[0;32m/tmp/ipykernel_9682/1594748142.py\u001b[0m in \u001b[0;36m<module>\u001b[0;34m\u001b[0m\n\u001b[0;32m----> 1\u001b[0;31m \u001b[0mremote_run\u001b[0m\u001b[0;34m.\u001b[0m\u001b[0mdeplpoy\u001b[0m\u001b[0;34m(\u001b[0m\u001b[0;34m)\u001b[0m\u001b[0;34m\u001b[0m\u001b[0;34m\u001b[0m\u001b[0m\n\u001b[0m",
      "\u001b[0;31mAttributeError\u001b[0m: 'AutoMLRun' object has no attribute 'deplpoy'"
     ]
    }
   ],
   "source": [
    "remote_run.deplpoy()"
   ]
  },
  {
   "cell_type": "code",
   "execution_count": null,
   "id": "f5690360",
   "metadata": {},
   "outputs": [],
   "source": []
  },
  {
   "cell_type": "code",
   "execution_count": null,
   "id": "219fce43",
   "metadata": {},
   "outputs": [],
   "source": []
  }
 ],
 "metadata": {
  "kernelspec": {
   "display_name": "Python 3.8 - AzureML",
   "language": "python",
   "name": "python38-azureml"
  },
  "language_info": {
   "codemirror_mode": {
    "name": "ipython",
    "version": 3
   },
   "file_extension": ".py",
   "mimetype": "text/x-python",
   "name": "python",
   "nbconvert_exporter": "python",
   "pygments_lexer": "ipython3",
   "version": "3.8.1"
  }
 },
 "nbformat": 4,
 "nbformat_minor": 5
}
